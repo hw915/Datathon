{
 "cells": [
  {
   "cell_type": "code",
   "execution_count": 1,
   "metadata": {
    "collapsed": true
   },
   "outputs": [],
   "source": [
    "from IPython.display import display, HTML\n",
    "import os\n",
    "import time\n",
    "import pickle\n",
    "from collections import Counter\n",
    "import numpy as np\n",
    "import pandas as pd\n",
    "import matplotlib.pyplot as plt\n",
    "pd.set_option('display.max_rows', 300)\n",
    "%matplotlib inline\n",
    "\n",
    "def load_data(filename):\n",
    "    with open(filename, 'rb') as fin:\n",
    "        return pickle.load(fin)\n",
    "    \n",
    "def save_data(obj, filename):\n",
    "    with open(filename, 'wb+') as fout:\n",
    "        pickle.dump(obj, fout)\n",
    "        \n",
    "root_path = 'C:/Users/yuanl4/Documents/MelbDatathon2017/'"
   ]
  },
  {
   "cell_type": "code",
   "execution_count": 4,
   "metadata": {
    "collapsed": true
   },
   "outputs": [],
   "source": [
    "def read_patients(i):\n",
    "    return pd.read_csv(root_path + 'Transactions/patients_%d.txt' % i, sep='\\t', \n",
    "                       parse_dates = ['Prescription_Week', 'Dispense_Week'])\n",
    "\n",
    "def merge_patients(i):\n",
    "    df1 = pd.read_csv(root_path + 'Transactions/patients_%d.txt' % i, sep='\\t')\n",
    "    df2 = pd.read_csv(root_path + 'Missing/missing_patients_%d.txt' % i, sep='\\t')\n",
    "    df = pd.concat([df1, df2], axis=0, copy=False)\n",
    "    return df"
   ]
  },
  {
   "cell_type": "code",
   "execution_count": 5,
   "metadata": {},
   "outputs": [],
   "source": [
    "df1 = read_patients(1)\n",
    "df2 = merge_patients(1)"
   ]
  },
  {
   "cell_type": "code",
   "execution_count": 6,
   "metadata": {},
   "outputs": [
    {
     "data": {
      "text/plain": [
       "((1300124, 19), (1404191, 19))"
      ]
     },
     "execution_count": 6,
     "metadata": {},
     "output_type": "execute_result"
    }
   ],
   "source": [
    "df1.shape, df2.shape"
   ]
  },
  {
   "cell_type": "code",
   "execution_count": 7,
   "metadata": {
    "collapsed": true
   },
   "outputs": [],
   "source": [
    "df1_drop = df1.drop_duplicates()\n",
    "df2_drop = df2.drop_duplicates()"
   ]
  },
  {
   "cell_type": "code",
   "execution_count": 8,
   "metadata": {},
   "outputs": [
    {
     "data": {
      "text/plain": [
       "((1260737, 19), (1362560, 19))"
      ]
     },
     "execution_count": 8,
     "metadata": {},
     "output_type": "execute_result"
    }
   ],
   "source": [
    "df1_drop.shape, df2_drop.shape"
   ]
  }
 ],
 "metadata": {
  "kernelspec": {
   "display_name": "Python 3",
   "language": "python",
   "name": "python3"
  },
  "language_info": {
   "codemirror_mode": {
    "name": "ipython",
    "version": 3
   },
   "file_extension": ".py",
   "mimetype": "text/x-python",
   "name": "python",
   "nbconvert_exporter": "python",
   "pygments_lexer": "ipython3",
   "version": "3.5.2"
  }
 },
 "nbformat": 4,
 "nbformat_minor": 2
}
