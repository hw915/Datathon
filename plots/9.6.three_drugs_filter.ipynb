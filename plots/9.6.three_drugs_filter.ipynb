{
 "cells": [
  {
   "cell_type": "code",
   "execution_count": 4,
   "metadata": {
    "collapsed": true
   },
   "outputs": [],
   "source": [
    "from IPython.display import display\n",
    "\n",
    "import time\n",
    "import numpy as np\n",
    "import pandas as pd\n",
    "pd.set_option('display.max_rows', 300)\n",
    "\n",
    "import pickle # save file as binary, load & dump much faster than csv\n",
    "\n",
    "def load_data(filename):\n",
    "    with open(filename, 'rb') as fin:\n",
    "        return pickle.load(fin)\n",
    "    \n",
    "def save_data(obj, filename):\n",
    "    with open(filename, 'wb+') as fout:\n",
    "        pickle.dump(obj, fout)\n",
    "\n",
    "import os\n",
    "root_path = 'C:/Users/yuanl/Documents/MelbDatathon2017/'"
   ]
  },
  {
   "cell_type": "code",
   "execution_count": 5,
   "metadata": {
    "collapsed": true
   },
   "outputs": [],
   "source": [
    "def read_patients(i):\n",
    "    df = pd.read_csv(root_path + 'Final_summary/patient_%d.csv' % i, \n",
    "                     parse_dates = ['Dispense_Week'],\n",
    "                     usecols=['Patient_ID', 'Drug_ID', 'Dispense_Week'])\n",
    "    df.columns = ['PID', 'DID', 'DispWeek']\n",
    "    return df\n",
    "\n",
    "def convert_to_matrix(df):\n",
    "    assert(set(df.dtypes.values) == {np.dtype('int64'), np.dtype('<M8[ns]')}) # data dtype is either date or int64\n",
    "\n",
    "    matrix = np.zeros(df.shape, dtype=np.int32)\n",
    "\n",
    "    year2000 = np.datetime64('2000-01-01')\n",
    "    for i, (col_dtype, col_name) in enumerate(zip(df.dtypes.values, df.columns)):\n",
    "        if col_dtype == np.dtype('int64'):\n",
    "            matrix[:, i] = df[col_name].values\n",
    "        else:\n",
    "            matrix[:, i] = (df[col_name].values - year2000).astype('timedelta64[D]')\n",
    "    return matrix, df.index.values\n",
    "\n",
    "def read_data(file_range):\n",
    "    transactions = []\n",
    "    for i in file_range:\n",
    "        print(i, end=' ')\n",
    "        transactions.append(convert_to_matrix(read_patients(i))[0])\n",
    "    print('finish loading')\n",
    "\n",
    "    transactions = np.vstack(transactions)\n",
    "\n",
    "    transactions[:, 0] -= transactions[:, 0].min() # now patient ID starts at 0\n",
    "    return transactions"
   ]
  },
  {
   "cell_type": "code",
   "execution_count": 6,
   "metadata": {},
   "outputs": [
    {
     "name": "stdout",
     "output_type": "stream",
     "text": [
      "1 2 3 4 5 6 7 8 9 10 11 12 13 14 15 16 17 18 19 20 21 22 23 24 25 26 27 28 29 30 31 32 33 34 35 36 37 38 39 40 41 42 43 44 45 46 47 48 49 50 finish loading\n",
      "patients in the training set: 558352\n",
      "Wall time: 57.6 s\n"
     ]
    }
   ],
   "source": [
    "%%time\n",
    "transactions = read_data(range(1, 51)) # 1~50\n",
    "\n",
    "num_patients = transactions[-1, 0] + 1\n",
    "print('patients in the training set:', num_patients)"
   ]
  },
  {
   "cell_type": "code",
   "execution_count": 13,
   "metadata": {},
   "outputs": [],
   "source": [
    "def encode_date(string):\n",
    "    year2000 = np.datetime64('2000-01-01')\n",
    "    return (np.datetime64(string) - year2000).astype('timedelta64[D]').astype(int)\n",
    "\n",
    "def decode_date(integer):\n",
    "    return np.timedelta64(int(integer), 'D') + np.datetime64('2000-01-01')"
   ]
  },
  {
   "cell_type": "code",
   "execution_count": 15,
   "metadata": {},
   "outputs": [],
   "source": [
    "transactions = transactions[np.in1d(transactions[:, 1], [4861, 4867, 4869])]"
   ]
  },
  {
   "cell_type": "code",
   "execution_count": 17,
   "metadata": {},
   "outputs": [],
   "source": [
    "transactions = transactions[transactions[:, 2] >= encode_date('2016-01-01')]"
   ]
  },
  {
   "cell_type": "code",
   "execution_count": 18,
   "metadata": {
    "collapsed": true
   },
   "outputs": [],
   "source": [
    "transactions = transactions[transactions[:, 2] <= encode_date('2016-12-31')]"
   ]
  },
  {
   "cell_type": "code",
   "execution_count": 21,
   "metadata": {},
   "outputs": [],
   "source": [
    "unique_PID, encoded_PID, count_PID = np.unique(transactions[:, 0], return_inverse=True, return_counts=True)"
   ]
  },
  {
   "cell_type": "code",
   "execution_count": 24,
   "metadata": {
    "collapsed": true
   },
   "outputs": [],
   "source": [
    "num_unique_PID = unique_PID.shape[0]"
   ]
  },
  {
   "cell_type": "code",
   "execution_count": 27,
   "metadata": {},
   "outputs": [],
   "source": [
    "dose = (np.bincount(encoded_PID, transactions[:, 1]==4861) * 20 + \n",
    "        np.bincount(encoded_PID, transactions[:, 1]==4867) * 40 +\n",
    "        np.bincount(encoded_PID, transactions[:, 1]==4869))"
   ]
  },
  {
   "cell_type": "code",
   "execution_count": 29,
   "metadata": {},
   "outputs": [],
   "source": [
    "df = pd.DataFrame()\n",
    "df['PID'] = transactions[:, 0] + 1\n",
    "df['DID'] = transactions[:, 1]\n",
    "df['DispWeek'] = [decode_date(d) for d in transactions[:, 2]]"
   ]
  },
  {
   "cell_type": "code",
   "execution_count": 31,
   "metadata": {
    "scrolled": false
   },
   "outputs": [],
   "source": [
    "df.to_csv(root_path+'three_drugs_transactions.csv', index=False)"
   ]
  },
  {
   "cell_type": "code",
   "execution_count": 41,
   "metadata": {},
   "outputs": [],
   "source": [
    "df = pd.DataFrame()\n",
    "df['PID'] = unique_PID\n",
    "df['4861'] = np.bincount(encoded_PID, transactions[:, 1]==4861).astype(int)\n",
    "df['4867'] = np.bincount(encoded_PID, transactions[:, 1]==4867).astype(int)\n",
    "df['4869'] = np.bincount(encoded_PID, transactions[:, 1]==4869).astype(int)\n",
    "df['sum'] = df['4861'] * 20 + df['4867'] * 40 + df['4869']"
   ]
  },
  {
   "cell_type": "code",
   "execution_count": 43,
   "metadata": {},
   "outputs": [],
   "source": [
    "df.to_csv(root_path+'three_drugs_sum.csv', index=False)"
   ]
  },
  {
   "cell_type": "code",
   "execution_count": 44,
   "metadata": {},
   "outputs": [
    {
     "ename": "NameError",
     "evalue": "name 'plt' is not defined",
     "output_type": "error",
     "traceback": [
      "\u001b[1;31m---------------------------------------------------------------------------\u001b[0m",
      "\u001b[1;31mNameError\u001b[0m                                 Traceback (most recent call last)",
      "\u001b[1;32m<ipython-input-44-ac3e8975afdd>\u001b[0m in \u001b[0;36m<module>\u001b[1;34m()\u001b[0m\n\u001b[1;32m----> 1\u001b[1;33m \u001b[0mplt\u001b[0m\u001b[1;33m.\u001b[0m\u001b[0mplot\u001b[0m\u001b[1;33m(\u001b[0m\u001b[0mdf\u001b[0m\u001b[1;33m.\u001b[0m\u001b[0msum\u001b[0m\u001b[1;33m)\u001b[0m\u001b[1;33m\u001b[0m\u001b[0m\n\u001b[0m",
      "\u001b[1;31mNameError\u001b[0m: name 'plt' is not defined"
     ]
    }
   ],
   "source": [
    "plt.plot(df.sum)"
   ]
  }
 ],
 "metadata": {
  "kernelspec": {
   "display_name": "Python 3",
   "language": "python",
   "name": "python3"
  },
  "language_info": {
   "codemirror_mode": {
    "name": "ipython",
    "version": 3
   },
   "file_extension": ".py",
   "mimetype": "text/x-python",
   "name": "python",
   "nbconvert_exporter": "python",
   "pygments_lexer": "ipython3",
   "version": "3.5.3"
  }
 },
 "nbformat": 4,
 "nbformat_minor": 2
}
