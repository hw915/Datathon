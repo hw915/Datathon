{
 "cells": [
  {
   "cell_type": "code",
   "execution_count": 2,
   "metadata": {
    "collapsed": true
   },
   "outputs": [],
   "source": [
    "from IPython.display import display\n",
    "\n",
    "import time\n",
    "import numpy as np\n",
    "import pandas as pd\n",
    "pd.set_option('display.max_rows', 300)\n",
    "\n",
    "import pickle # save file as binary, load & dump much faster than csv\n",
    "\n",
    "def load_data(filename):\n",
    "    with open(filename, 'rb') as fin:\n",
    "        return pickle.load(fin)\n",
    "    \n",
    "def save_data(obj, filename):\n",
    "    with open(filename, 'wb+') as fout:\n",
    "        pickle.dump(obj, fout)\n",
    "\n",
    "import os\n",
    "root_path = 'C:/Users/yuanl4/Documents/MelbDatathon2017/'"
   ]
  },
  {
   "cell_type": "code",
   "execution_count": 3,
   "metadata": {
    "collapsed": true
   },
   "outputs": [],
   "source": [
    "def read_patients(i):\n",
    "    df = pd.read_csv(root_path + 'Final/patient_%d.csv' % i, \n",
    "                     parse_dates = ['Dispense_Week'],\n",
    "                     usecols=['Patient_ID', 'Store_ID', 'Drug_ID', 'Dispense_Week'])\n",
    "    df.columns = ['PID', 'SID', 'DID', 'DispWeek']\n",
    "    return df\n",
    "\n",
    "def convert_to_matrix(df):\n",
    "    assert(set(df.dtypes.values) == {np.dtype('int64'), np.dtype('<M8[ns]')}) # data dtype is either date or int64\n",
    "\n",
    "    matrix = np.zeros(df.shape, dtype=np.int32)\n",
    "\n",
    "    year2000 = np.datetime64('2000-01-01')\n",
    "    for i, (col_dtype, col_name) in enumerate(zip(df.dtypes.values, df.columns)):\n",
    "        if col_dtype == np.dtype('int64'):\n",
    "            matrix[:, i] = df[col_name].values\n",
    "        else:\n",
    "            matrix[:, i] = (df[col_name].values - year2000).astype('timedelta64[D]')\n",
    "    return matrix, df.index.values\n",
    "\n",
    "def read_data(file_range):\n",
    "    transactions = []\n",
    "    for i in file_range:\n",
    "        print(i, end=' ')\n",
    "        transactions.append(convert_to_matrix(read_patients(i))[0])\n",
    "    print('finish loading')\n",
    "\n",
    "    transactions = np.vstack(transactions)\n",
    "\n",
    "    transactions[:, 0] -= transactions[:, 0].min() # now patient ID starts at 0\n",
    "    return transactions"
   ]
  },
  {
   "cell_type": "code",
   "execution_count": 4,
   "metadata": {},
   "outputs": [
    {
     "name": "stdout",
     "output_type": "stream",
     "text": [
      "1 2 3 4 5 6 7 8 9 10 11 12 13 14 15 16 17 18 19 20 21 22 23 24 25 26 27 28 29 30 31 32 33 34 35 36 37 38 39 40 41 42 43 44 45 46 47 48 49 50 finish loading\n",
      "patients in the training set: 558352\n",
      "Wall time: 58.3 s\n"
     ]
    }
   ],
   "source": [
    "%%time\n",
    "transactions = read_data(range(1, 51)) # 1~50\n",
    "\n",
    "num_patients = transactions[-1, 0] + 1\n",
    "print('patients in the training set:', num_patients)"
   ]
  },
  {
   "cell_type": "code",
   "execution_count": 5,
   "metadata": {
    "collapsed": true
   },
   "outputs": [],
   "source": [
    "# save_data({'data':transactions, \n",
    "#            'cols':['PID', 'SID', 'DID', 'DispWeek']},\n",
    "#           root_path + 'Summary/all_transactions.pkl')"
   ]
  },
  {
   "cell_type": "code",
   "execution_count": 6,
   "metadata": {
    "collapsed": true
   },
   "outputs": [],
   "source": [
    "patients = np.asanyarray(np.split(transactions, np.bincount(transactions[:, 0]).cumsum()[:-1]))"
   ]
  },
  {
   "cell_type": "code",
   "execution_count": 7,
   "metadata": {
    "collapsed": true
   },
   "outputs": [],
   "source": [
    "def group_count_range_gap_min_max_median(groups, values):\n",
    "    unique_groups, count_groups = np.unique(groups, return_counts=True)\n",
    "    output = np.zeros((unique_groups.shape[0], 6), dtype=np.int16)\n",
    "    # groups, count, range, gap_min, gap_max, gap_median\n",
    "    # 1,      1,     1,     1,       1,       1\n",
    "    output[:, 0] = unique_groups # groups\n",
    "    output[:, 1] = count_groups  # counts\n",
    "    for i, g in enumerate(unique_groups):\n",
    "        values_selected = values[groups==g]\n",
    "        output[i, 2] = values_selected.max() - values_selected.min() # range\n",
    "        gaps = np.ediff1d(values_selected)       # gaps\n",
    "        if gaps.shape[0] != 0:\n",
    "            output[i, 3] = gaps.min()            # gap min\n",
    "            output[i, 4] = gaps.max()            # gap max\n",
    "            output[i, 5] = np.median(gaps)       # gap median\n",
    "    return output"
   ]
  },
  {
   "cell_type": "code",
   "execution_count": 8,
   "metadata": {},
   "outputs": [
    {
     "name": "stdout",
     "output_type": "stream",
     "text": [
      "Number of patients 558352\n",
      "0 10000 20000 30000 40000 50000 60000 70000 80000 90000 100000 110000 120000 130000 140000 150000 160000 170000 180000 190000 200000 210000 220000 230000 240000 250000 260000 270000 280000 290000 300000 310000 320000 330000 340000 350000 360000 370000 380000 390000 400000 410000 420000 430000 440000 450000 460000 470000 480000 490000 500000 510000 520000 530000 540000 550000 finished.\n",
      "Wall time: 3min 26s\n"
     ]
    }
   ],
   "source": [
    "%%time\n",
    "summaries = []\n",
    "print('Number of patients', len(patients))\n",
    "for i, patient in enumerate(patients):\n",
    "    if i%10000==0:\n",
    "        print(i, end=' ')\n",
    "    summaries.append(group_count_range_gap_min_max_median(patient[:, 2], patient[:, 3])) # DID and DispWeek\n",
    "print('finished.')"
   ]
  },
  {
   "cell_type": "code",
   "execution_count": 9,
   "metadata": {
    "collapsed": true
   },
   "outputs": [],
   "source": [
    "def merge_summaries(summaries):\n",
    "    patient_count = np.asarray(list(map(len, summaries)))\n",
    "    PIDs = np.bincount(patient_count.cumsum()).cumsum()[:-1]\n",
    "    return np.hstack([PIDs[:, None], np.vstack(summaries)])\n",
    "patient_drug_summary = merge_summaries(summaries).astype(np.int32)"
   ]
  },
  {
   "cell_type": "code",
   "execution_count": 11,
   "metadata": {},
   "outputs": [
    {
     "name": "stdout",
     "output_type": "stream",
     "text": [
      "Wall time: 30.4 s\n"
     ]
    }
   ],
   "source": [
    "%%time\n",
    "df = pd.DataFrame(patient_drug_summary, columns=['PID', 'DID', 'Cnt', 'Dur', 'G.Min', 'G.Max', 'G.Med'])\n",
    "df.to_csv(root_path+'Summary/patient_drug_summary.csv', index=False)"
   ]
  },
  {
   "cell_type": "code",
   "execution_count": 12,
   "metadata": {
    "collapsed": true
   },
   "outputs": [],
   "source": [
    "def value_range_gap_min_max_median(i, values, output):\n",
    "    if values.shape[0] == 0:\n",
    "        return output\n",
    "    # count, range, gap_min, gap_max, gap_median\n",
    "    # 1,     1,     1,       1,       1\n",
    "    output[i, 1] = count = values.shape[0]     # counts\n",
    "    output[i, 2] = values.max() - values.min() # range\n",
    "    if count > 1:\n",
    "        gaps = np.ediff1d(values)              # gaps\n",
    "        output[i, 3] = gaps.min()              # gap min\n",
    "        output[i, 4] = gaps.max()              # gap max\n",
    "        output[i, 5] = np.median(gaps)         # gap median\n",
    "    return output"
   ]
  },
  {
   "cell_type": "code",
   "execution_count": 13,
   "metadata": {
    "collapsed": true
   },
   "outputs": [],
   "source": [
    "patient_summary = np.zeros((num_patients, 6), dtype=np.int32) # drug_count, trans_count, range, gap_min, gap_max, gap_median\n",
    "patient_summary[:, 0] = list(map(len, summaries)) # distinct drugs, drug_count"
   ]
  },
  {
   "cell_type": "code",
   "execution_count": 14,
   "metadata": {},
   "outputs": [
    {
     "name": "stdout",
     "output_type": "stream",
     "text": [
      "Number of patients 558352\n",
      "0 10000 20000 30000 40000 50000 60000 70000 80000 90000 100000 110000 120000 130000 140000 150000 160000 170000 180000 190000 200000 210000 220000 230000 240000 250000 260000 270000 280000 290000 300000 310000 320000 330000 340000 350000 360000 370000 380000 390000 400000 410000 420000 430000 440000 450000 460000 470000 480000 490000 500000 510000 520000 530000 540000 550000 finished.\n",
      "Wall time: 17 s\n"
     ]
    }
   ],
   "source": [
    "%%time\n",
    "print('Number of patients', len(patients))\n",
    "for i, patient in enumerate(patients):\n",
    "    if i%10000==0:\n",
    "        print(i, end=' ')\n",
    "    value_range_gap_min_max_median(i, patient[:, 3], patient_summary) # patient[:, 3] DispWeek\n",
    "print('finished.')"
   ]
  },
  {
   "cell_type": "code",
   "execution_count": 15,
   "metadata": {
    "collapsed": true
   },
   "outputs": [],
   "source": [
    "patient_summary = pd.DataFrame(patient_summary.astype(float),\n",
    "                               columns=['D.Cnt', 'T.Cnt', 'Dur', 'G.Min', 'G.Max', 'G.Med']) # convert to float to use nan\n",
    "\n",
    "patient_summary.loc[patient_summary['D.Cnt']==0, ['Dur', 'G.Min', 'G.Max', 'G.Med']] = np.nan\n",
    "patient_summary.loc[patient_summary['Dur']==0, ['G.Min', 'G.Max', 'G.Med']] = np.nan"
   ]
  },
  {
   "cell_type": "code",
   "execution_count": 16,
   "metadata": {
    "collapsed": true,
    "scrolled": true
   },
   "outputs": [],
   "source": [
    "patient_summary.to_csv(root_path + 'Summary/patient_summary.csv', index_label='PID')"
   ]
  },
  {
   "cell_type": "code",
   "execution_count": null,
   "metadata": {
    "collapsed": true
   },
   "outputs": [],
   "source": []
  },
  {
   "cell_type": "code",
   "execution_count": 21,
   "metadata": {
    "scrolled": false
   },
   "outputs": [
    {
     "data": {
      "text/html": [
       "<div>\n",
       "<table border=\"1\" class=\"dataframe\">\n",
       "  <thead>\n",
       "    <tr style=\"text-align: right;\">\n",
       "      <th></th>\n",
       "      <th>PID</th>\n",
       "      <th>SID</th>\n",
       "      <th>DID</th>\n",
       "      <th>DispWeek</th>\n",
       "    </tr>\n",
       "  </thead>\n",
       "  <tbody>\n",
       "    <tr>\n",
       "      <th>0</th>\n",
       "      <td>6</td>\n",
       "      <td>1427</td>\n",
       "      <td>3423</td>\n",
       "      <td>4236</td>\n",
       "    </tr>\n",
       "    <tr>\n",
       "      <th>1</th>\n",
       "      <td>6</td>\n",
       "      <td>1427</td>\n",
       "      <td>3423</td>\n",
       "      <td>4271</td>\n",
       "    </tr>\n",
       "    <tr>\n",
       "      <th>2</th>\n",
       "      <td>6</td>\n",
       "      <td>257</td>\n",
       "      <td>2440</td>\n",
       "      <td>4691</td>\n",
       "    </tr>\n",
       "    <tr>\n",
       "      <th>3</th>\n",
       "      <td>6</td>\n",
       "      <td>2338</td>\n",
       "      <td>12090</td>\n",
       "      <td>5909</td>\n",
       "    </tr>\n",
       "  </tbody>\n",
       "</table>\n",
       "</div>"
      ],
      "text/plain": [
       "   PID   SID    DID  DispWeek\n",
       "0    6  1427   3423      4236\n",
       "1    6  1427   3423      4271\n",
       "2    6   257   2440      4691\n",
       "3    6  2338  12090      5909"
      ]
     },
     "metadata": {},
     "output_type": "display_data"
    },
    {
     "data": {
      "text/html": [
       "<div>\n",
       "<table border=\"1\" class=\"dataframe\">\n",
       "  <thead>\n",
       "    <tr style=\"text-align: right;\">\n",
       "      <th></th>\n",
       "      <th>DID</th>\n",
       "      <th>Cnt</th>\n",
       "      <th>Dur</th>\n",
       "      <th>G.Min</th>\n",
       "      <th>G.Max</th>\n",
       "      <th>G.Med</th>\n",
       "    </tr>\n",
       "  </thead>\n",
       "  <tbody>\n",
       "    <tr>\n",
       "      <th>0</th>\n",
       "      <td>2440</td>\n",
       "      <td>1</td>\n",
       "      <td>0</td>\n",
       "      <td>0</td>\n",
       "      <td>0</td>\n",
       "      <td>0</td>\n",
       "    </tr>\n",
       "    <tr>\n",
       "      <th>1</th>\n",
       "      <td>3423</td>\n",
       "      <td>2</td>\n",
       "      <td>35</td>\n",
       "      <td>35</td>\n",
       "      <td>35</td>\n",
       "      <td>35</td>\n",
       "    </tr>\n",
       "    <tr>\n",
       "      <th>2</th>\n",
       "      <td>12090</td>\n",
       "      <td>1</td>\n",
       "      <td>0</td>\n",
       "      <td>0</td>\n",
       "      <td>0</td>\n",
       "      <td>0</td>\n",
       "    </tr>\n",
       "  </tbody>\n",
       "</table>\n",
       "</div>"
      ],
      "text/plain": [
       "     DID  Cnt  Dur  G.Min  G.Max  G.Med\n",
       "0   2440    1    0      0      0      0\n",
       "1   3423    2   35     35     35     35\n",
       "2  12090    1    0      0      0      0"
      ]
     },
     "execution_count": 21,
     "metadata": {},
     "output_type": "execute_result"
    }
   ],
   "source": [
    "def summary_for_one_patient(data):\n",
    "    display(pd.DataFrame(data, columns=['PID', 'SID', 'DID', 'DispWeek']))\n",
    "    \n",
    "    output = group_value_range_gap_min_max_median(data[:, 2], data[:, 3])\n",
    "    return pd.DataFrame(output, columns=['DID', 'Cnt', 'Dur', 'G.Min', 'G.Max', 'G.Med'])\n",
    "\n",
    "summary_for_one_patient(patients[6])"
   ]
  }
 ],
 "metadata": {
  "kernelspec": {
   "display_name": "Python 3",
   "language": "python",
   "name": "python3"
  },
  "language_info": {
   "codemirror_mode": {
    "name": "ipython",
    "version": 3
   },
   "file_extension": ".py",
   "mimetype": "text/x-python",
   "name": "python",
   "nbconvert_exporter": "python",
   "pygments_lexer": "ipython3",
   "version": "3.5.3"
  }
 },
 "nbformat": 4,
 "nbformat_minor": 2
}
