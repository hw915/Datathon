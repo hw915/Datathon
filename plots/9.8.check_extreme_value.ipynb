{
 "cells": [
  {
   "cell_type": "code",
   "execution_count": 70,
   "metadata": {
    "collapsed": true
   },
   "outputs": [],
   "source": [
    "from IPython.display import display, HTML\n",
    "import os\n",
    "import time\n",
    "import pickle\n",
    "from collections import Counter\n",
    "import numpy as np\n",
    "import pandas as pd\n",
    "import matplotlib\n",
    "import matplotlib.pyplot as plt\n",
    "pd.set_option('display.max_rows', 300)\n",
    "%matplotlib inline\n",
    "\n",
    "def load_data(filename):\n",
    "    with open(filename, 'rb') as fin:\n",
    "        return pickle.load(fin)\n",
    "    \n",
    "def save_data(obj, filename):\n",
    "    with open(filename, 'wb+') as fout:\n",
    "        pickle.dump(obj, fout)\n",
    "        \n",
    "root_path = 'C:/Users/yuanl/Documents/MelbDatathon2017/'"
   ]
  },
  {
   "cell_type": "code",
   "execution_count": 2,
   "metadata": {
    "collapsed": true
   },
   "outputs": [],
   "source": [
    "def merge_patients(i):\n",
    "    df1 = pd.read_csv(root_path + 'Transactions/patients_%d.txt' % i, sep='\\t')\n",
    "    df2 = pd.read_csv(root_path + 'Missing/missing_patients_%d.txt' % i, sep='\\t')\n",
    "    df = pd.concat([df1, df2], axis=0, copy=False)\n",
    "    df.drop_duplicates(inplace=True)\n",
    "    df.sort_values(['Patient_ID', 'Dispense_Week'], inplace=True)\n",
    "    df.set_index(np.arange(df.shape[0]), inplace=True)\n",
    "    return df"
   ]
  },
  {
   "cell_type": "code",
   "execution_count": 3,
   "metadata": {
    "collapsed": true
   },
   "outputs": [],
   "source": [
    "df = merge_patients(1)"
   ]
  },
  {
   "cell_type": "code",
   "execution_count": 4,
   "metadata": {},
   "outputs": [
    {
     "data": {
      "text/plain": [
       "Index(['Patient_ID', 'Store_ID', 'Prescriber_ID', 'Drug_ID',\n",
       "       'SourceSystem_Code', 'Prescription_Week', 'Dispense_Week', 'Drug_Code',\n",
       "       'NHS_Code', 'IsDeferredScript', 'Script_Qty', 'Dispensed_Qty',\n",
       "       'MaxDispense_Qty', 'PatientPrice_Amt', 'WholeSalePrice_Amt',\n",
       "       'GovernmentReclaim_Amt', 'RepeatsTotal_Qty', 'RepeatsLeft_Qty',\n",
       "       'StreamlinedApproval_Code'],\n",
       "      dtype='object')"
      ]
     },
     "execution_count": 4,
     "metadata": {},
     "output_type": "execute_result"
    }
   ],
   "source": [
    "df.columns"
   ]
  },
  {
   "cell_type": "code",
   "execution_count": 5,
   "metadata": {},
   "outputs": [
    {
     "name": "stdout",
     "output_type": "stream",
     "text": [
      "1\t Fri May  5 09:04:14 2017\n",
      "2\t Fri May  5 09:04:31 2017\n",
      "3\t Fri May  5 09:04:55 2017\n",
      "4\t Fri May  5 09:05:15 2017\n",
      "5\t Fri May  5 09:05:35 2017\n",
      "6\t Fri May  5 09:05:55 2017\n",
      "7\t Fri May  5 09:06:18 2017\n",
      "8\t Fri May  5 09:06:38 2017\n",
      "9\t Fri May  5 09:06:59 2017\n",
      "10\t Fri May  5 09:07:20 2017\n",
      "11\t Fri May  5 09:07:40 2017\n",
      "12\t Fri May  5 09:08:01 2017\n",
      "13\t Fri May  5 09:08:21 2017\n",
      "14\t Fri May  5 09:08:41 2017\n",
      "15\t Fri May  5 09:09:01 2017\n",
      "16\t Fri May  5 09:09:22 2017\n",
      "17\t Fri May  5 09:09:43 2017\n",
      "18\t Fri May  5 09:10:03 2017\n",
      "19\t Fri May  5 09:10:25 2017\n",
      "20\t Fri May  5 09:10:47 2017\n",
      "21\t Fri May  5 09:11:08 2017\n",
      "22\t Fri May  5 09:11:28 2017\n",
      "23\t Fri May  5 09:11:48 2017\n",
      "24\t Fri May  5 09:12:10 2017\n",
      "25\t Fri May  5 09:12:30 2017\n",
      "26\t Fri May  5 09:12:50 2017\n",
      "27\t Fri May  5 09:13:07 2017\n",
      "28\t Fri May  5 09:13:24 2017\n",
      "29\t Fri May  5 09:13:41 2017\n",
      "30\t Fri May  5 09:13:58 2017\n",
      "31\t Fri May  5 09:14:15 2017\n",
      "32\t Fri May  5 09:14:35 2017\n",
      "33\t Fri May  5 09:14:52 2017\n",
      "34\t Fri May  5 09:15:09 2017\n",
      "35\t Fri May  5 09:15:26 2017\n",
      "36\t Fri May  5 09:15:44 2017\n",
      "37\t Fri May  5 09:16:01 2017\n",
      "38\t Fri May  5 09:16:18 2017\n",
      "39\t Fri May  5 09:16:34 2017\n",
      "40\t Fri May  5 09:16:51 2017\n",
      "41\t Fri May  5 09:17:08 2017\n",
      "42\t Fri May  5 09:17:24 2017\n",
      "43\t Fri May  5 09:17:41 2017\n",
      "44\t Fri May  5 09:18:01 2017\n",
      "45\t Fri May  5 09:18:18 2017\n",
      "46\t Fri May  5 09:18:35 2017\n",
      "47\t Fri May  5 09:18:52 2017\n",
      "48\t Fri May  5 09:19:10 2017\n",
      "49\t Fri May  5 09:19:27 2017\n",
      "50\t Fri May  5 09:19:45 2017\n",
      "finished.\n",
      "Wall time: 15min 48s\n"
     ]
    }
   ],
   "source": [
    "%%time\n",
    "transactions = []\n",
    "for i in range(1, 51):\n",
    "#     transactions.append(merge_patients(i))\n",
    "    print('%d\\t'%i, time.ctime())\n",
    "    df = merge_patients(i)\n",
    "    df = df[['Patient_ID', 'Store_ID', 'Prescriber_ID', 'Drug_ID', 'Prescription_Week', 'Dispense_Week',\n",
    "             'Script_Qty', 'Dispensed_Qty', 'MaxDispense_Qty', 'PatientPrice_Amt', 'WholeSalePrice_Amt',\n",
    "             'GovernmentReclaim_Amt', 'RepeatsTotal_Qty', 'RepeatsLeft_Qty']]\n",
    "#     df = df[['Patient_ID', 'Store_ID', 'Prescriber_ID', 'Drug_ID', 'Prescription_Week', 'Dispense_Week',\n",
    "#              'PatientPrice_Amt', 'WholeSalePrice_Amt', 'GovernmentReclaim_Amt']] \n",
    "#      df.dropna(axis=0, how='any', subset=['PatientPrice_Amt', 'WholeSalePrice_Amt', 'GovernmentReclaim_Amt'],\n",
    "#               inplace=True)\n",
    "    df.to_csv(root_path + 'Final_summary_v2/patient_%d.csv'%i, index=False)\n",
    "print('finished.')"
   ]
  },
  {
   "cell_type": "code",
   "execution_count": 6,
   "metadata": {},
   "outputs": [
    {
     "name": "stdout",
     "output_type": "stream",
     "text": [
      "1041874.5\n",
      "19367.69\n"
     ]
    }
   ],
   "source": [
    "df = pd.read_csv(root_path + 'Final_summary_v2/patient_9.csv')\n",
    "print(df.WholeSalePrice_Amt.max())\n",
    "df.loc[df.WholeSalePrice_Amt==1041874.5, 'WholeSalePrice_Amt'] = 1499.1\n",
    "print(df.WholeSalePrice_Amt.max())\n",
    "df.to_csv(root_path + 'Final_summary_v2/patient_9.csv', index=False)"
   ]
  },
  {
   "cell_type": "markdown",
   "metadata": {},
   "source": [
    "read all patients"
   ]
  },
  {
   "cell_type": "code",
   "execution_count": 10,
   "metadata": {},
   "outputs": [],
   "source": [
    "def read_patient(i):\n",
    "    df = pd.read_csv(root_path + 'Final_summary_v2/patient_%d.csv'%i)\n",
    "#     df = df[['Patient_ID', 'Store_ID', 'Prescriber_ID', 'Drug_ID', 'Prescription_Week', 'Dispense_Week',\n",
    "#              'Script_Qty', 'Dispensed_Qty', 'MaxDispense_Qty', 'PatientPrice_Amt', 'WholeSalePrice_Amt',\n",
    "#              'GovernmentReclaim_Amt', 'RepeatsTotal_Qty', 'RepeatsLeft_Qty']]\n",
    "    df.rename(columns={'Patient_ID':'PID', 'Store_ID':'SID', 'Prescriber_ID':'PresID', 'Drug_ID':'DID',\n",
    "                       'Prescription_Week':'PresWeek', 'Dispense_Week':'DispWeek',\n",
    "                       'Script_Qty':'SQty', 'Dispensed_Qty':'DQty', 'MaxDispense_Qty':'MaxD',\n",
    "                       'PatientPrice_Amt':'PPrice', 'WholeSalePrice_Amt':'WSPrice',\n",
    "                       'GovernmentReclaim_Amt':'GReclaim', 'RepeatsTotal_Qty':'RT', 'RepeatsLeft_Qty':'RL'},\n",
    "              inplace=True)\n",
    "    return df"
   ]
  },
  {
   "cell_type": "code",
   "execution_count": 8,
   "metadata": {},
   "outputs": [
    {
     "name": "stdout",
     "output_type": "stream",
     "text": [
      "1 2 3 4 5 6 7 8 9 10 11 12 13 14 15 16 17 18 19 20 21 22 23 24 25 26 27 28 29 30 31 32 33 34 35 36 37 38 39 40 41 42 43 44 45 46 47 48 49 50 finish loading\n",
      "Wall time: 1min 41s\n"
     ]
    }
   ],
   "source": [
    "%%time\n",
    "transactions = []\n",
    "for i in range(1, 51):\n",
    "    print(i, end=' ')\n",
    "    transactions.append(read_patient(i))\n",
    "print('finish loading')\n",
    "transactions = pd.concat(transactions, ignore_index=True)"
   ]
  },
  {
   "cell_type": "code",
   "execution_count": 51,
   "metadata": {
    "collapsed": true
   },
   "outputs": [],
   "source": [
    "transactions['Year'] = transactions.DispWeek.values.astype('datetime64[Y]').astype(int) + 1970"
   ]
  },
  {
   "cell_type": "code",
   "execution_count": 37,
   "metadata": {
    "collapsed": true
   },
   "outputs": [],
   "source": [
    "num_patients = transactions.PID.max()"
   ]
  },
  {
   "cell_type": "code",
   "execution_count": 5,
   "metadata": {
    "collapsed": true
   },
   "outputs": [],
   "source": [
    "def basic_info(df):\n",
    "    print('GovernmentReclaim:', df.GovernmentReclaim.sum())"
   ]
  },
  {
   "cell_type": "code",
   "execution_count": 17,
   "metadata": {
    "scrolled": true
   },
   "outputs": [
    {
     "data": {
      "text/html": [
       "<div>\n",
       "<table border=\"1\" class=\"dataframe\">\n",
       "  <thead>\n",
       "    <tr style=\"text-align: right;\">\n",
       "      <th></th>\n",
       "      <th>PID</th>\n",
       "      <th>SID</th>\n",
       "      <th>PresID</th>\n",
       "      <th>DID</th>\n",
       "      <th>PresWeek</th>\n",
       "      <th>DispWeek</th>\n",
       "      <th>SQty</th>\n",
       "      <th>DQty</th>\n",
       "      <th>MaxD</th>\n",
       "      <th>PPrice</th>\n",
       "      <th>WSPrice</th>\n",
       "      <th>GReclaim</th>\n",
       "      <th>RT</th>\n",
       "      <th>RL</th>\n",
       "    </tr>\n",
       "  </thead>\n",
       "  <tbody>\n",
       "    <tr>\n",
       "      <th>18810875</th>\n",
       "      <td>153220</td>\n",
       "      <td>-9999</td>\n",
       "      <td>57154</td>\n",
       "      <td>8026</td>\n",
       "      <td>2012-06-10</td>\n",
       "      <td>2013-03-31</td>\n",
       "      <td>20000</td>\n",
       "      <td>NaN</td>\n",
       "      <td>NaN</td>\n",
       "      <td>8.85</td>\n",
       "      <td>8.17</td>\n",
       "      <td>7.08</td>\n",
       "      <td>0.0</td>\n",
       "      <td>0.0</td>\n",
       "    </tr>\n",
       "    <tr>\n",
       "      <th>18810926</th>\n",
       "      <td>153220</td>\n",
       "      <td>-9999</td>\n",
       "      <td>57154</td>\n",
       "      <td>8026</td>\n",
       "      <td>2013-01-13</td>\n",
       "      <td>2013-07-07</td>\n",
       "      <td>20000</td>\n",
       "      <td>NaN</td>\n",
       "      <td>NaN</td>\n",
       "      <td>8.85</td>\n",
       "      <td>8.17</td>\n",
       "      <td>7.19</td>\n",
       "      <td>0.0</td>\n",
       "      <td>0.0</td>\n",
       "    </tr>\n",
       "    <tr>\n",
       "      <th>18810986</th>\n",
       "      <td>153220</td>\n",
       "      <td>-9999</td>\n",
       "      <td>57154</td>\n",
       "      <td>8026</td>\n",
       "      <td>2013-10-27</td>\n",
       "      <td>2013-11-10</td>\n",
       "      <td>20000</td>\n",
       "      <td>NaN</td>\n",
       "      <td>NaN</td>\n",
       "      <td>8.85</td>\n",
       "      <td>8.17</td>\n",
       "      <td>7.19</td>\n",
       "      <td>0.0</td>\n",
       "      <td>0.0</td>\n",
       "    </tr>\n",
       "    <tr>\n",
       "      <th>40963743</th>\n",
       "      <td>345948</td>\n",
       "      <td>-9999</td>\n",
       "      <td>14771</td>\n",
       "      <td>8026</td>\n",
       "      <td>2013-02-10</td>\n",
       "      <td>2013-06-30</td>\n",
       "      <td>20000</td>\n",
       "      <td>NaN</td>\n",
       "      <td>NaN</td>\n",
       "      <td>16.00</td>\n",
       "      <td>8.17</td>\n",
       "      <td>0.00</td>\n",
       "      <td>5.0</td>\n",
       "      <td>4.0</td>\n",
       "    </tr>\n",
       "    <tr>\n",
       "      <th>40963789</th>\n",
       "      <td>345948</td>\n",
       "      <td>-9999</td>\n",
       "      <td>14771</td>\n",
       "      <td>8026</td>\n",
       "      <td>2012-12-16</td>\n",
       "      <td>2013-09-08</td>\n",
       "      <td>20000</td>\n",
       "      <td>NaN</td>\n",
       "      <td>NaN</td>\n",
       "      <td>21.05</td>\n",
       "      <td>8.17</td>\n",
       "      <td>0.00</td>\n",
       "      <td>5.0</td>\n",
       "      <td>5.0</td>\n",
       "    </tr>\n",
       "    <tr>\n",
       "      <th>40963846</th>\n",
       "      <td>345948</td>\n",
       "      <td>-9999</td>\n",
       "      <td>14771</td>\n",
       "      <td>8026</td>\n",
       "      <td>2012-12-16</td>\n",
       "      <td>2013-12-01</td>\n",
       "      <td>20000</td>\n",
       "      <td>NaN</td>\n",
       "      <td>NaN</td>\n",
       "      <td>21.05</td>\n",
       "      <td>8.17</td>\n",
       "      <td>0.00</td>\n",
       "      <td>5.0</td>\n",
       "      <td>4.0</td>\n",
       "    </tr>\n",
       "    <tr>\n",
       "      <th>40963869</th>\n",
       "      <td>345948</td>\n",
       "      <td>-9999</td>\n",
       "      <td>14771</td>\n",
       "      <td>8026</td>\n",
       "      <td>2012-12-16</td>\n",
       "      <td>2014-01-19</td>\n",
       "      <td>20000</td>\n",
       "      <td>NaN</td>\n",
       "      <td>NaN</td>\n",
       "      <td>21.05</td>\n",
       "      <td>8.17</td>\n",
       "      <td>0.00</td>\n",
       "      <td>5.0</td>\n",
       "      <td>0.0</td>\n",
       "    </tr>\n",
       "  </tbody>\n",
       "</table>\n",
       "</div>"
      ],
      "text/plain": [
       "             PID   SID  PresID   DID    PresWeek    DispWeek   SQty  DQty  \\\n",
       "18810875  153220 -9999   57154  8026  2012-06-10  2013-03-31  20000   NaN   \n",
       "18810926  153220 -9999   57154  8026  2013-01-13  2013-07-07  20000   NaN   \n",
       "18810986  153220 -9999   57154  8026  2013-10-27  2013-11-10  20000   NaN   \n",
       "40963743  345948 -9999   14771  8026  2013-02-10  2013-06-30  20000   NaN   \n",
       "40963789  345948 -9999   14771  8026  2012-12-16  2013-09-08  20000   NaN   \n",
       "40963846  345948 -9999   14771  8026  2012-12-16  2013-12-01  20000   NaN   \n",
       "40963869  345948 -9999   14771  8026  2012-12-16  2014-01-19  20000   NaN   \n",
       "\n",
       "          MaxD  PPrice  WSPrice  GReclaim   RT   RL  \n",
       "18810875   NaN    8.85     8.17      7.08  0.0  0.0  \n",
       "18810926   NaN    8.85     8.17      7.19  0.0  0.0  \n",
       "18810986   NaN    8.85     8.17      7.19  0.0  0.0  \n",
       "40963743   NaN   16.00     8.17      0.00  5.0  4.0  \n",
       "40963789   NaN   21.05     8.17      0.00  5.0  5.0  \n",
       "40963846   NaN   21.05     8.17      0.00  5.0  4.0  \n",
       "40963869   NaN   21.05     8.17      0.00  5.0  0.0  "
      ]
     },
     "execution_count": 17,
     "metadata": {},
     "output_type": "execute_result"
    }
   ],
   "source": [
    "transactions.loc[transactions.SQty==20000]"
   ]
  },
  {
   "cell_type": "code",
   "execution_count": 21,
   "metadata": {},
   "outputs": [
    {
     "data": {
      "text/html": [
       "<div>\n",
       "<table border=\"1\" class=\"dataframe\">\n",
       "  <thead>\n",
       "    <tr style=\"text-align: right;\">\n",
       "      <th></th>\n",
       "      <th>PID</th>\n",
       "      <th>SID</th>\n",
       "      <th>PresID</th>\n",
       "      <th>DID</th>\n",
       "      <th>PresWeek</th>\n",
       "      <th>DispWeek</th>\n",
       "      <th>SQty</th>\n",
       "      <th>DQty</th>\n",
       "      <th>MaxD</th>\n",
       "      <th>PPrice</th>\n",
       "      <th>WSPrice</th>\n",
       "      <th>GReclaim</th>\n",
       "      <th>RT</th>\n",
       "      <th>RL</th>\n",
       "    </tr>\n",
       "  </thead>\n",
       "  <tbody>\n",
       "    <tr>\n",
       "      <th>7279954</th>\n",
       "      <td>59171</td>\n",
       "      <td>2349</td>\n",
       "      <td>38686</td>\n",
       "      <td>6523</td>\n",
       "      <td>2010-11-07</td>\n",
       "      <td>2011-03-20</td>\n",
       "      <td>30</td>\n",
       "      <td>30.0</td>\n",
       "      <td>NaN</td>\n",
       "      <td>5.6</td>\n",
       "      <td>NaN</td>\n",
       "      <td>36.53</td>\n",
       "      <td>5.0</td>\n",
       "      <td>28995.0</td>\n",
       "    </tr>\n",
       "    <tr>\n",
       "      <th>7279955</th>\n",
       "      <td>59171</td>\n",
       "      <td>1836</td>\n",
       "      <td>38686</td>\n",
       "      <td>6523</td>\n",
       "      <td>2010-11-07</td>\n",
       "      <td>2011-03-20</td>\n",
       "      <td>30</td>\n",
       "      <td>30.0</td>\n",
       "      <td>NaN</td>\n",
       "      <td>5.6</td>\n",
       "      <td>NaN</td>\n",
       "      <td>36.53</td>\n",
       "      <td>5.0</td>\n",
       "      <td>28995.0</td>\n",
       "    </tr>\n",
       "  </tbody>\n",
       "</table>\n",
       "</div>"
      ],
      "text/plain": [
       "           PID   SID  PresID   DID    PresWeek    DispWeek  SQty  DQty  MaxD  \\\n",
       "7279954  59171  2349   38686  6523  2010-11-07  2011-03-20    30  30.0   NaN   \n",
       "7279955  59171  1836   38686  6523  2010-11-07  2011-03-20    30  30.0   NaN   \n",
       "\n",
       "         PPrice  WSPrice  GReclaim   RT       RL  \n",
       "7279954     5.6      NaN     36.53  5.0  28995.0  \n",
       "7279955     5.6      NaN     36.53  5.0  28995.0  "
      ]
     },
     "execution_count": 21,
     "metadata": {},
     "output_type": "execute_result"
    }
   ],
   "source": [
    "transactions.loc[transactions.RL==28995]"
   ]
  },
  {
   "cell_type": "code",
   "execution_count": 22,
   "metadata": {
    "collapsed": true
   },
   "outputs": [],
   "source": [
    "veteran_drug_transactions = transactions.loc[np.in1d(transactions.DID.values, [7427, 7428, 7429]), :]"
   ]
  },
  {
   "cell_type": "code",
   "execution_count": 23,
   "metadata": {},
   "outputs": [
    {
     "data": {
      "text/plain": [
       "(array([7427, 7428, 7429], dtype=int64),\n",
       " array([   83, 29720,  1097], dtype=int64))"
      ]
     },
     "execution_count": 23,
     "metadata": {},
     "output_type": "execute_result"
    }
   ],
   "source": [
    "np.unique(veteran_drug_transactions.DID.values, return_counts=True)"
   ]
  },
  {
   "cell_type": "code",
   "execution_count": 24,
   "metadata": {},
   "outputs": [
    {
     "data": {
      "text/plain": [
       "179"
      ]
     },
     "execution_count": 24,
     "metadata": {},
     "output_type": "execute_result"
    }
   ],
   "source": [
    "veteran_PIDs = veteran_drug_transactions.PID.unique()\n",
    "len(veteran_PIDs)"
   ]
  },
  {
   "cell_type": "code",
   "execution_count": 28,
   "metadata": {},
   "outputs": [],
   "source": [
    "veteran_transactions = transactions.loc[np.in1d(transactions.PID.values, veteran_PIDs), :]"
   ]
  },
  {
   "cell_type": "code",
   "execution_count": 26,
   "metadata": {
    "collapsed": true
   },
   "outputs": [],
   "source": [
    "patient_lookup = pd.read_csv(root_path + 'Lookups/patients.txt', sep='\\t', index_col='Patient_ID')"
   ]
  },
  {
   "cell_type": "code",
   "execution_count": 89,
   "metadata": {
    "collapsed": true
   },
   "outputs": [],
   "source": [
    "store_lookup = pd.read_csv(root_path + 'Lookups/stores.txt', sep='\\t', index_col='Store_ID')"
   ]
  },
  {
   "cell_type": "code",
   "execution_count": 93,
   "metadata": {},
   "outputs": [],
   "source": [
    "unique_gender, count_gender = np.unique(patient_lookup.loc[veteran_PIDs, 'gender'].values, return_counts=True)"
   ]
  },
  {
   "cell_type": "code",
   "execution_count": 106,
   "metadata": {},
   "outputs": [
    {
     "data": {
      "text/plain": [
       "(array(['F', 'M', 'U'], dtype=object), array([96, 70, 13], dtype=int64))"
      ]
     },
     "execution_count": 106,
     "metadata": {},
     "output_type": "execute_result"
    }
   ],
   "source": [
    "unique_gender, count_gender"
   ]
  },
  {
   "cell_type": "code",
   "execution_count": 105,
   "metadata": {},
   "outputs": [
    {
     "data": {
      "image/png": "[encoded data removed]",
      "text/plain": [
       "<matplotlib.figure.Figure at 0x23384f32fd0>"
      ]
     },
     "metadata": {},
     "output_type": "display_data"
    }
   ],
   "source": [
    "def test():\n",
    "    old_params = matplotlib.rcParams['figure.figsize']\n",
    "    matplotlib.rcParams['figure.figsize'] = (6.0, 6.0)\n",
    "    \n",
    "    labels = ['Female', 'Male', 'Unknown']\n",
    "    sizes = count_gender\n",
    "    explode = (0.1, 0, 0)  # only \"explode\" the 2nd slice (i.e. 'Hogs')\n",
    "\n",
    "    fig, ax1 = plt.subplots()\n",
    "    ax1.pie(sizes, explode=explode, labels=labels, autopct='%1.1f%%', shadow=True, startangle=90)\n",
    "    ax1.axis('equal')  # Equal aspect ratio ensures that pie is drawn as a circle.\n",
    "\n",
    "    fig.savefig('Gender distribution.png', bbox_inches='tight')\n",
    "    plt.show()\n",
    "    \n",
    "    matplotlib.rcParams['figure.figsize'] = old_params\n",
    "test()"
   ]
  },
  {
   "cell_type": "code",
   "execution_count": null,
   "metadata": {
    "collapsed": true
   },
   "outputs": [],
   "source": []
  },
  {
   "cell_type": "code",
   "execution_count": 111,
   "metadata": {
    "collapsed": true
   },
   "outputs": [],
   "source": [
    "drug_lookup = pd.read_csv('./drug_with_illness_lookup.csv', encoding='utf-16', sep='\\t', index_col='DID')"
   ]
  },
  {
   "cell_type": "code",
   "execution_count": 123,
   "metadata": {},
   "outputs": [],
   "source": [
    "veteran_count = {}\n",
    "for illness in drug_lookup.ChronicIllness.dropna().unique():\n",
    "    illness_drugs = drug_lookup.loc[drug_lookup.ChronicIllness==illness].index.values\n",
    "    unique_illness_PIDs = veteran_transactions.loc[np.in1d(veteran_transactions.DID.values,\n",
    "                                                           illness_drugs)].PID.unique()\n",
    "    veteran_count[illness] = len(unique_illness_PIDs)    "
   ]
  },
  {
   "cell_type": "code",
   "execution_count": 124,
   "metadata": {
    "scrolled": true
   },
   "outputs": [
    {
     "data": {
      "text/plain": [
       "{'Anti-Coagulant': 75,\n",
       " 'Chronic Obstructive Pulmonary Disease (COPD)': 88,\n",
       " 'Depression': 125,\n",
       " 'Diabetes': 60,\n",
       " 'Epilepsy': 82,\n",
       " 'Heart Failure': 108,\n",
       " 'Hypertension': 99,\n",
       " 'Immunology': 2,\n",
       " 'Lipids': 155,\n",
       " 'Osteoporosis': 71,\n",
       " 'Urology': 32}"
      ]
     },
     "execution_count": 124,
     "metadata": {},
     "output_type": "execute_result"
    }
   ],
   "source": [
    "veteran_count"
   ]
  },
  {
   "cell_type": "code",
   "execution_count": 129,
   "metadata": {},
   "outputs": [
    {
     "name": "stdout",
     "output_type": "stream",
     "text": [
      "Anti-Coagulant\t75\n",
      "Chronic Obstructive Pulmonary Disease (COPD)\t88\n",
      "Depression\t125\n",
      "Diabetes\t60\n",
      "Epilepsy\t82\n",
      "Heart Failure\t108\n",
      "Hypertension\t99\n",
      "Immunology\t2\n",
      "Lipids\t155\n",
      "Osteoporosis\t71\n",
      "Urology\t32\n"
     ]
    }
   ],
   "source": [
    "for x in sorted(veteran_count.items()):\n",
    "    print('%s\\t%d' % x)"
   ]
  },
  {
   "cell_type": "code",
   "execution_count": 130,
   "metadata": {},
   "outputs": [
    {
     "data": {
      "text/plain": [
       "558352"
      ]
     },
     "execution_count": 130,
     "metadata": {},
     "output_type": "execute_result"
    }
   ],
   "source": [
    "num_patients"
   ]
  },
  {
   "cell_type": "code",
   "execution_count": 125,
   "metadata": {
    "collapsed": true
   },
   "outputs": [],
   "source": [
    "all_count = {}\n",
    "for illness in drug_lookup.ChronicIllness.dropna().unique():\n",
    "    print(illness)\n",
    "    illness_drugs = drug_lookup.loc[drug_lookup.ChronicIllness==illness].index.values\n",
    "    unique_illness_PIDs = transactions.loc[np.in1d(transactions.DID.values,\n",
    "                                                   illness_drugs)].PID.unique()\n",
    "    all_count[illness] = len(unique_illness_PIDs)"
   ]
  },
  {
   "cell_type": "code",
   "execution_count": 128,
   "metadata": {},
   "outputs": [
    {
     "name": "stdout",
     "output_type": "stream",
     "text": [
      "Anti-Coagulant\t41961\n",
      "Chronic Obstructive Pulmonary Disease (COPD)\t58358\n",
      "Depression\t192245\n",
      "Diabetes\t126850\n",
      "Epilepsy\t84465\n",
      "Heart Failure\t185892\n",
      "Hypertension\t256490\n",
      "Immunology\t3970\n",
      "Lipids\t355882\n",
      "Osteoporosis\t37387\n",
      "Urology\t22234\n"
     ]
    }
   ],
   "source": [
    "for x in sorted(all_count.items()):\n",
    "    print('%s\\t%d' % x)"
   ]
  },
  {
   "cell_type": "code",
   "execution_count": null,
   "metadata": {
    "collapsed": true
   },
   "outputs": [],
   "source": []
  },
  {
   "cell_type": "code",
   "execution_count": 54,
   "metadata": {
    "collapsed": true
   },
   "outputs": [],
   "source": [
    "trans_90353 = transactions.loc[transactions.PID==90353, :]"
   ]
  },
  {
   "cell_type": "code",
   "execution_count": null,
   "metadata": {
    "collapsed": true
   },
   "outputs": [],
   "source": []
  },
  {
   "cell_type": "code",
   "execution_count": 35,
   "metadata": {},
   "outputs": [],
   "source": [
    "GReclaim = np.bincount(transactions.PID.values-1, transactions.GReclaim.fillna(0).values)\n",
    "PPrice   = np.bincount(transactions.PID.values-1, transactions.PPrice.fillna(0).values)"
   ]
  },
  {
   "cell_type": "code",
   "execution_count": 87,
   "metadata": {},
   "outputs": [
    {
     "data": {
      "image/png": "[encoded data removed]",
      "text/plain": [
       "<matplotlib.figure.Figure at 0x23384d91e48>"
      ]
     },
     "metadata": {},
     "output_type": "display_data"
    }
   ],
   "source": [
    "def test():\n",
    "    old_params = matplotlib.rcParams['figure.figsize']\n",
    "    matplotlib.rcParams['figure.figsize'] = (12.0, 8.0)\n",
    "    \n",
    "    fig, ax = plt.subplots()\n",
    "    \n",
    "    ax.scatter(PPrice, GReclaim, alpha=0.5, s=(GReclaim/20000)**2+(PPrice/10000)**2)\n",
    "#     ax.scatter(PPrice[90352], GReclaim[90352], \n",
    "#                s=(GReclaim[90352]/20000)**2 + (PPrice[90352]/10000)**2 + 20)\n",
    "    plt.ylabel('Government Reclaim Amount (A$)')\n",
    "    plt.xlabel('Patient Price Amount (A$)')\n",
    "    plt.show()\n",
    "    fig.savefig('Scatter PPrice vs. GReclaim.png', bbox_inches='tight')\n",
    "    \n",
    "    matplotlib.rcParams['figure.figsize'] = old_params\n",
    "test()"
   ]
  },
  {
   "cell_type": "code",
   "execution_count": 71,
   "metadata": {
    "collapsed": true
   },
   "outputs": [],
   "source": [
    "def plot_df(df):\n",
    "    old_params = matplotlib.rcParams['figure.figsize']\n",
    "    matplotlib.rcParams['figure.figsize'] = (12.0, 8.0)\n",
    "    \n",
    "    n_groups = df.shape[0]\n",
    "\n",
    "    plt.figure(num=None, figsize=(8, 6), dpi=80, facecolor='w', edgecolor='k')\n",
    "    fig, ax1 = plt.subplots()\n",
    "    index = np.arange(n_groups)\n",
    "    bar_width = 0.35\n",
    "    opacity = 0.6\n",
    "\n",
    "    rects1 = ax1.bar(index, df.PPrice, bar_width,\n",
    "                     alpha=opacity, label='PatientPrice', color='blue')\n",
    "    \n",
    "    rects3 = ax1.bar(index + bar_width, df.GReclaim, bar_width,\n",
    "                     alpha=opacity, label='GovernmentReclaim', color='red')\n",
    "\n",
    "\n",
    "    ax1.set_ylabel('Amount (A$)')\n",
    "#     ax1.set_ylim(0, 5e8)\n",
    "    \n",
    "#     ax2 = ax1.twinx()\n",
    "#     ax2.plot(index + bar_width / 2, df.Transactions, lw=2, color='black')\n",
    "#     ax2.set_ylabel('Transactions')\n",
    "#     ax2.set_ylim(0.8e7, 1.2e7)\n",
    "\n",
    "    plt.xlabel('Year')\n",
    "    plt.xticks(index + bar_width / 2, df.index)\n",
    "    \n",
    "    plt.title('Summary by year')\n",
    "    # ask matplotlib for the plotted objects and their labels\n",
    "#     lines1, labels1 = ax1.get_legend_handles_labels()\n",
    "#     lines2, labels2 = ax2.get_legend_handles_labels()\n",
    "#     ax2.legend(lines1 + lines2, labels1 + labels2, loc=0)\n",
    "\n",
    "    plt.legend()\n",
    "    plt.tight_layout()\n",
    "    plt.show()\n",
    "    \n",
    "    fig.savefig('test.png', bbox_inches='tight')\n",
    "    \n",
    "    matplotlib.rcParams['figure.figsize'] = old_params"
   ]
  },
  {
   "cell_type": "code",
   "execution_count": 72,
   "metadata": {},
   "outputs": [
    {
     "data": {
      "text/plain": [
       "<matplotlib.figure.Figure at 0x23384af29e8>"
      ]
     },
     "metadata": {},
     "output_type": "display_data"
    },
    {
     "data": {
      "image/png": "[encoded data removed]",
      "text/plain": [
       "<matplotlib.figure.Figure at 0x233816cb320>"
      ]
     },
     "metadata": {},
     "output_type": "display_data"
    }
   ],
   "source": [
    "def test(df):\n",
    "    df = df.dropna(subset=['PPrice', 'GReclaim'], how='any')\n",
    "    unique_year, encoded_year = np.unique(df.Year.values, return_inverse=True)\n",
    "    PPrice_90353_by_year   = np.bincount(encoded_year, df.PPrice.values)\n",
    "    GReclaim_90353_by_year = np.bincount(encoded_year, df.GReclaim.values)\n",
    "    plot = pd.DataFrame({'PPrice': PPrice_90353_by_year, 'GReclaim': GReclaim_90353_by_year}, index=unique_year)\n",
    "    plot_df(plot)\n",
    "test(trans_90353)"
   ]
  }
 ],
 "metadata": {
  "kernelspec": {
   "display_name": "Python 3",
   "language": "python",
   "name": "python3"
  },
  "language_info": {
   "codemirror_mode": {
    "name": "ipython",
    "version": 3
   },
   "file_extension": ".py",
   "mimetype": "text/x-python",
   "name": "python",
   "nbconvert_exporter": "python",
   "pygments_lexer": "ipython3",
   "version": "3.5.3"
  }
 },
 "nbformat": 4,
 "nbformat_minor": 2
}
