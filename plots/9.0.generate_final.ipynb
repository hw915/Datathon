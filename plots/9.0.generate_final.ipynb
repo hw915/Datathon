{
 "cells": [
  {
   "cell_type": "code",
   "execution_count": 4,
   "metadata": {
    "collapsed": true
   },
   "outputs": [],
   "source": [
    "from IPython.display import display, HTML\n",
    "import os\n",
    "import time\n",
    "import pickle\n",
    "from collections import Counter\n",
    "import numpy as np\n",
    "import pandas as pd\n",
    "import matplotlib.pyplot as plt\n",
    "pd.set_option('display.max_rows', 300)\n",
    "%matplotlib inline\n",
    "\n",
    "def load_data(filename):\n",
    "    with open(filename, 'rb') as fin:\n",
    "        return pickle.load(fin)\n",
    "    \n",
    "def save_data(obj, filename):\n",
    "    with open(filename, 'wb+') as fout:\n",
    "        pickle.dump(obj, fout)\n",
    "        \n",
    "root_path = 'C:/Users/yuanl/Documents/MelbDatathon2017/'"
   ]
  },
  {
   "cell_type": "markdown",
   "metadata": {},
   "source": [
    "Distribution of packet sizes (are larger pack sizes favoured, why? Does this change by geographical location?)"
   ]
  },
  {
   "cell_type": "code",
   "execution_count": 5,
   "metadata": {
    "collapsed": true
   },
   "outputs": [],
   "source": [
    "def merge_patients(i):\n",
    "    df1 = pd.read_csv(root_path + 'Transactions/patients_%d.txt' % i, sep='\\t')\n",
    "    df2 = pd.read_csv(root_path + 'Missing/missing_patients_%d.txt' % i, sep='\\t')\n",
    "    df = pd.concat([df1, df2], axis=0, copy=False)\n",
    "    df.drop_duplicates(inplace=True)\n",
    "    df.sort_values(['Patient_ID', 'Dispense_Week'], inplace=True)\n",
    "    df.set_index(np.arange(df.shape[0]), inplace=True)\n",
    "    return df"
   ]
  },
  {
   "cell_type": "code",
   "execution_count": 6,
   "metadata": {},
   "outputs": [
    {
     "name": "stdout",
     "output_type": "stream",
     "text": [
      "1\t Wed May  3 00:50:42 2017\n",
      "2\t Wed May  3 00:50:56 2017\n",
      "3\t Wed May  3 00:51:10 2017\n",
      "4\t Wed May  3 00:51:27 2017\n",
      "5\t Wed May  3 00:51:44 2017\n",
      "6\t Wed May  3 00:52:00 2017\n",
      "7\t Wed May  3 00:52:17 2017\n",
      "8\t Wed May  3 00:52:34 2017\n",
      "9\t Wed May  3 00:52:51 2017\n",
      "10\t Wed May  3 00:53:09 2017\n",
      "11\t Wed May  3 00:53:26 2017\n",
      "12\t Wed May  3 00:53:42 2017\n",
      "13\t Wed May  3 00:53:58 2017\n",
      "14\t Wed May  3 00:54:15 2017\n",
      "15\t Wed May  3 00:54:33 2017\n",
      "16\t Wed May  3 00:54:50 2017\n",
      "17\t Wed May  3 00:55:07 2017\n",
      "18\t Wed May  3 00:55:25 2017\n",
      "19\t Wed May  3 00:55:43 2017\n",
      "20\t Wed May  3 00:56:01 2017\n",
      "21\t Wed May  3 00:56:19 2017\n",
      "22\t Wed May  3 00:56:36 2017\n",
      "23\t Wed May  3 00:56:52 2017\n",
      "24\t Wed May  3 00:57:10 2017\n",
      "25\t Wed May  3 00:57:27 2017\n",
      "26\t Wed May  3 00:57:43 2017\n",
      "27\t Wed May  3 00:57:57 2017\n",
      "28\t Wed May  3 00:58:10 2017\n",
      "29\t Wed May  3 00:58:24 2017\n",
      "30\t Wed May  3 00:58:38 2017\n",
      "31\t Wed May  3 00:58:52 2017\n",
      "32\t Wed May  3 00:59:09 2017\n",
      "33\t Wed May  3 00:59:24 2017\n",
      "34\t Wed May  3 00:59:39 2017\n",
      "35\t Wed May  3 00:59:52 2017\n",
      "36\t Wed May  3 01:00:05 2017\n",
      "37\t Wed May  3 01:00:19 2017\n",
      "38\t Wed May  3 01:00:34 2017\n",
      "39\t Wed May  3 01:00:47 2017\n",
      "40\t Wed May  3 01:01:01 2017\n",
      "41\t Wed May  3 01:01:14 2017\n",
      "42\t Wed May  3 01:01:28 2017\n",
      "43\t Wed May  3 01:01:42 2017\n",
      "44\t Wed May  3 01:01:55 2017\n",
      "45\t Wed May  3 01:02:09 2017\n",
      "46\t Wed May  3 01:02:23 2017\n",
      "47\t Wed May  3 01:02:37 2017\n",
      "48\t Wed May  3 01:02:51 2017\n",
      "49\t Wed May  3 01:03:04 2017\n",
      "50\t Wed May  3 01:03:17 2017\n",
      "finished.\n",
      "Wall time: 12min 48s\n"
     ]
    }
   ],
   "source": [
    "%%time\n",
    "for i in range(1, 51):\n",
    "    print('%d\\t'%i, time.ctime())\n",
    "    df = merge_patients(i)\n",
    "    df = df[['Patient_ID', 'Store_ID', 'Prescriber_ID', 'Drug_ID', 'Prescription_Week', 'Dispense_Week',\n",
    "             'PatientPrice_Amt', 'WholeSalePrice_Amt', 'GovernmentReclaim_Amt']] \n",
    "    df.dropna(axis=0, how='any', subset=['PatientPrice_Amt', 'WholeSalePrice_Amt', 'GovernmentReclaim_Amt'],\n",
    "              inplace=True)\n",
    "    df.to_csv(root_path + 'Final/patient_%d.csv'%i, index=False)\n",
    "print('finished.')"
   ]
  },
  {
   "cell_type": "code",
   "execution_count": 7,
   "metadata": {},
   "outputs": [
    {
     "data": {
      "text/plain": [
       "19367.689999999999"
      ]
     },
     "execution_count": 7,
     "metadata": {},
     "output_type": "execute_result"
    }
   ],
   "source": [
    "df = pd.read_csv(root_path + 'Final/patient_9.csv')\n",
    "df.loc[df.WholeSalePrice_Amt==1041874.5, 'WholeSalePrice_Amt'] = 1499.1\n",
    "df.WholeSalePrice_Amt.max()"
   ]
  },
  {
   "cell_type": "code",
   "execution_count": 8,
   "metadata": {
    "collapsed": true
   },
   "outputs": [],
   "source": [
    "df.to_csv(root_path + 'Final/patient_9.csv', index=False)"
   ]
  },
  {
   "cell_type": "code",
   "execution_count": null,
   "metadata": {
    "collapsed": true
   },
   "outputs": [],
   "source": []
  },
  {
   "cell_type": "code",
   "execution_count": null,
   "metadata": {
    "collapsed": true
   },
   "outputs": [],
   "source": []
  },
  {
   "cell_type": "code",
   "execution_count": 28,
   "metadata": {
    "collapsed": true
   },
   "outputs": [],
   "source": [
    "df1_with_drug = df1.join(drug_lookup, on='Drug_ID')"
   ]
  },
  {
   "cell_type": "code",
   "execution_count": 11,
   "metadata": {
    "scrolled": false
   },
   "outputs": [
    {
     "data": {
      "text/html": [
       "<div>\n",
       "<table border=\"1\" class=\"dataframe\">\n",
       "  <thead>\n",
       "    <tr style=\"text-align: right;\">\n",
       "      <th></th>\n",
       "      <th>PCode</th>\n",
       "      <th>MasterProductFullName</th>\n",
       "      <th>BrandName</th>\n",
       "      <th>Form</th>\n",
       "      <th>Strength</th>\n",
       "      <th>Pack</th>\n",
       "      <th>Ingredient</th>\n",
       "      <th>Price</th>\n",
       "      <th>L5C</th>\n",
       "      <th>L4C</th>\n",
       "      <th>L3C</th>\n",
       "      <th>L2C</th>\n",
       "      <th>L1C</th>\n",
       "      <th>L1_CN</th>\n",
       "      <th>L2_CN</th>\n",
       "      <th>L3_CN</th>\n",
       "      <th>L4_CN</th>\n",
       "      <th>L5_CN</th>\n",
       "    </tr>\n",
       "    <tr>\n",
       "      <th>DID</th>\n",
       "      <th></th>\n",
       "      <th></th>\n",
       "      <th></th>\n",
       "      <th></th>\n",
       "      <th></th>\n",
       "      <th></th>\n",
       "      <th></th>\n",
       "      <th></th>\n",
       "      <th></th>\n",
       "      <th></th>\n",
       "      <th></th>\n",
       "      <th></th>\n",
       "      <th></th>\n",
       "      <th></th>\n",
       "      <th></th>\n",
       "      <th></th>\n",
       "      <th></th>\n",
       "      <th></th>\n",
       "    </tr>\n",
       "  </thead>\n",
       "  <tbody>\n",
       "    <tr>\n",
       "      <th>7</th>\n",
       "      <td>A127</td>\n",
       "      <td>AMOXIL SACH 3G 1</td>\n",
       "      <td>AMOXIL</td>\n",
       "      <td>SACH</td>\n",
       "      <td>3G</td>\n",
       "      <td>1.0</td>\n",
       "      <td>AMOXYCILLIN</td>\n",
       "      <td>2.2174</td>\n",
       "      <td>J01CA04</td>\n",
       "      <td>J01CA</td>\n",
       "      <td>J01C</td>\n",
       "      <td>J01</td>\n",
       "      <td>J</td>\n",
       "      <td>系统用抗感染药</td>\n",
       "      <td>系统用抗菌药</td>\n",
       "      <td>β-内酰胺抗菌药，青霉素类</td>\n",
       "      <td>广谱青霉素类</td>\n",
       "      <td>阿莫西林</td>\n",
       "    </tr>\n",
       "    <tr>\n",
       "      <th>13</th>\n",
       "      <td>ABB2</td>\n",
       "      <td>ABBOCILLIN VK TAB 250MG 25</td>\n",
       "      <td>ABBOCILLIN VK</td>\n",
       "      <td>TAB</td>\n",
       "      <td>250MG</td>\n",
       "      <td>25.0</td>\n",
       "      <td>PENICILLIN V</td>\n",
       "      <td>2.1200</td>\n",
       "      <td>J01CE02</td>\n",
       "      <td>J01CE</td>\n",
       "      <td>J01C</td>\n",
       "      <td>J01</td>\n",
       "      <td>J</td>\n",
       "      <td>系统用抗感染药</td>\n",
       "      <td>系统用抗菌药</td>\n",
       "      <td>β-内酰胺抗菌药，青霉素类</td>\n",
       "      <td>β-内酰胺酶敏感的青霉素类</td>\n",
       "      <td>青霉素V</td>\n",
       "    </tr>\n",
       "    <tr>\n",
       "      <th>17</th>\n",
       "      <td>ABB9</td>\n",
       "      <td>ABBOCILLIN V SUSP 150MG/5ML, 100ML 1</td>\n",
       "      <td>ABBOCILLIN V</td>\n",
       "      <td>SUSP</td>\n",
       "      <td>150MG/5ML, 100ML</td>\n",
       "      <td>1.0</td>\n",
       "      <td>PENICILLIN (AS BENZATHINE)</td>\n",
       "      <td>7.4200</td>\n",
       "      <td>J01CE10</td>\n",
       "      <td>J01CE</td>\n",
       "      <td>J01C</td>\n",
       "      <td>J01</td>\n",
       "      <td>J</td>\n",
       "      <td>系统用抗感染药</td>\n",
       "      <td>系统用抗菌药</td>\n",
       "      <td>β-内酰胺抗菌药，青霉素类</td>\n",
       "      <td>β-内酰胺酶敏感的青霉素类</td>\n",
       "      <td>苄星青霉素V</td>\n",
       "    </tr>\n",
       "    <tr>\n",
       "      <th>18</th>\n",
       "      <td>ABBZ1</td>\n",
       "      <td>ASCABIOL APP 25% 200ML 1</td>\n",
       "      <td>ASCABIOL</td>\n",
       "      <td>APP</td>\n",
       "      <td>25% 200ML</td>\n",
       "      <td>1.0</td>\n",
       "      <td>Not Applicable</td>\n",
       "      <td>7.8800</td>\n",
       "      <td>NaN</td>\n",
       "      <td>NaN</td>\n",
       "      <td>NaN</td>\n",
       "      <td>NaN</td>\n",
       "      <td>NaN</td>\n",
       "      <td>NaN</td>\n",
       "      <td>NaN</td>\n",
       "      <td>NaN</td>\n",
       "      <td>NaN</td>\n",
       "      <td>NaN</td>\n",
       "    </tr>\n",
       "    <tr>\n",
       "      <th>19</th>\n",
       "      <td>ABIL1</td>\n",
       "      <td>ABILIFY TAB 10MG 30</td>\n",
       "      <td>ABILIFY</td>\n",
       "      <td>TAB</td>\n",
       "      <td>10MG</td>\n",
       "      <td>30.0</td>\n",
       "      <td>ARIPIPRAZOLE</td>\n",
       "      <td>105.7900</td>\n",
       "      <td>N05AX12</td>\n",
       "      <td>N05AX</td>\n",
       "      <td>N05A</td>\n",
       "      <td>N05</td>\n",
       "      <td>N</td>\n",
       "      <td>神经系统</td>\n",
       "      <td>安定药</td>\n",
       "      <td>抗精神病药</td>\n",
       "      <td>其它抗精神病药</td>\n",
       "      <td>阿立哌唑</td>\n",
       "    </tr>\n",
       "    <tr>\n",
       "      <th>20</th>\n",
       "      <td>ABIL2</td>\n",
       "      <td>ABILIFY TAB 15MG 30</td>\n",
       "      <td>ABILIFY</td>\n",
       "      <td>TAB</td>\n",
       "      <td>15MG</td>\n",
       "      <td>30.0</td>\n",
       "      <td>ARIPIPRAZOLE</td>\n",
       "      <td>150.1300</td>\n",
       "      <td>N05AX12</td>\n",
       "      <td>N05AX</td>\n",
       "      <td>N05A</td>\n",
       "      <td>N05</td>\n",
       "      <td>N</td>\n",
       "      <td>神经系统</td>\n",
       "      <td>安定药</td>\n",
       "      <td>抗精神病药</td>\n",
       "      <td>其它抗精神病药</td>\n",
       "      <td>阿立哌唑</td>\n",
       "    </tr>\n",
       "    <tr>\n",
       "      <th>21</th>\n",
       "      <td>ABIL3</td>\n",
       "      <td>ABILIFY TAB 20MG 30</td>\n",
       "      <td>ABILIFY</td>\n",
       "      <td>TAB</td>\n",
       "      <td>20MG</td>\n",
       "      <td>30.0</td>\n",
       "      <td>ARIPIPRAZOLE</td>\n",
       "      <td>182.7500</td>\n",
       "      <td>N05AX12</td>\n",
       "      <td>N05AX</td>\n",
       "      <td>N05A</td>\n",
       "      <td>N05</td>\n",
       "      <td>N</td>\n",
       "      <td>神经系统</td>\n",
       "      <td>安定药</td>\n",
       "      <td>抗精神病药</td>\n",
       "      <td>其它抗精神病药</td>\n",
       "      <td>阿立哌唑</td>\n",
       "    </tr>\n",
       "    <tr>\n",
       "      <th>22</th>\n",
       "      <td>ABIL4</td>\n",
       "      <td>ABILIFY TAB 30MG 30</td>\n",
       "      <td>ABILIFY</td>\n",
       "      <td>TAB</td>\n",
       "      <td>30MG</td>\n",
       "      <td>30.0</td>\n",
       "      <td>ARIPIPRAZOLE</td>\n",
       "      <td>222.6900</td>\n",
       "      <td>N05AX12</td>\n",
       "      <td>N05AX</td>\n",
       "      <td>N05A</td>\n",
       "      <td>N05</td>\n",
       "      <td>N</td>\n",
       "      <td>神经系统</td>\n",
       "      <td>安定药</td>\n",
       "      <td>抗精神病药</td>\n",
       "      <td>其它抗精神病药</td>\n",
       "      <td>阿立哌唑</td>\n",
       "    </tr>\n",
       "    <tr>\n",
       "      <th>23</th>\n",
       "      <td>ABIL5</td>\n",
       "      <td>ABILIFY TAB 5MG 30</td>\n",
       "      <td>ABILIFY</td>\n",
       "      <td>TAB</td>\n",
       "      <td>5MG</td>\n",
       "      <td>30.0</td>\n",
       "      <td>ARIPIPRAZOLE</td>\n",
       "      <td>155.3700</td>\n",
       "      <td>N05AX12</td>\n",
       "      <td>N05AX</td>\n",
       "      <td>N05A</td>\n",
       "      <td>N05</td>\n",
       "      <td>N</td>\n",
       "      <td>神经系统</td>\n",
       "      <td>安定药</td>\n",
       "      <td>抗精神病药</td>\n",
       "      <td>其它抗精神病药</td>\n",
       "      <td>阿立哌唑</td>\n",
       "    </tr>\n",
       "    <tr>\n",
       "      <th>24</th>\n",
       "      <td>ABRA1</td>\n",
       "      <td>ABRAXANE VL 100MG (BASE) 1</td>\n",
       "      <td>ABRAXANE</td>\n",
       "      <td>VL</td>\n",
       "      <td>100MG (BASE)</td>\n",
       "      <td>1.0</td>\n",
       "      <td>NAB PACLITAXEL</td>\n",
       "      <td>431.6700</td>\n",
       "      <td>L01CD01</td>\n",
       "      <td>L01CD</td>\n",
       "      <td>L01C</td>\n",
       "      <td>L01</td>\n",
       "      <td>L</td>\n",
       "      <td>抗肿瘤药和免疫机能调节药</td>\n",
       "      <td>抗肿瘤药</td>\n",
       "      <td>植物生物碱和其它天然药物</td>\n",
       "      <td>紫杉生物碱类</td>\n",
       "      <td>紫杉醇</td>\n",
       "    </tr>\n",
       "    <tr>\n",
       "      <th>25</th>\n",
       "      <td>ABS2</td>\n",
       "      <td>HANDY GAUZE ABS PAD  10CM X 10CM71117-06 1</td>\n",
       "      <td>HANDY GAUZE ABS PAD</td>\n",
       "      <td>NaN</td>\n",
       "      <td>10CM X 10CM71117-06</td>\n",
       "      <td>1.0</td>\n",
       "      <td>GAUZE ABSORBENT PAD</td>\n",
       "      <td>21.3300</td>\n",
       "      <td>D09AA</td>\n",
       "      <td>D09AA</td>\n",
       "      <td>D09A</td>\n",
       "      <td>D09</td>\n",
       "      <td>D</td>\n",
       "      <td>皮肤病用药</td>\n",
       "      <td>医用敷料</td>\n",
       "      <td>医用敷料</td>\n",
       "      <td>敷料软膏中用的抗感染药</td>\n",
       "      <td>敷料软膏中用的抗感染药</td>\n",
       "    </tr>\n",
       "    <tr>\n",
       "      <th>26</th>\n",
       "      <td>ABS4</td>\n",
       "      <td>HANDY GAUZE ABS PAD  5CM X 5CM 71117-05 1</td>\n",
       "      <td>HANDY GAUZE ABS PAD</td>\n",
       "      <td>NaN</td>\n",
       "      <td>5CM X 5CM 71117-05</td>\n",
       "      <td>1.0</td>\n",
       "      <td>GAUZE ABSORBENT PAD</td>\n",
       "      <td>7.6000</td>\n",
       "      <td>D09AA</td>\n",
       "      <td>D09AA</td>\n",
       "      <td>D09A</td>\n",
       "      <td>D09</td>\n",
       "      <td>D</td>\n",
       "      <td>皮肤病用药</td>\n",
       "      <td>医用敷料</td>\n",
       "      <td>医用敷料</td>\n",
       "      <td>敷料软膏中用的抗感染药</td>\n",
       "      <td>敷料软膏中用的抗感染药</td>\n",
       "    </tr>\n",
       "    <tr>\n",
       "      <th>29</th>\n",
       "      <td>ABTX1</td>\n",
       "      <td>ABBOCILLIN VK TAB 500MG 25</td>\n",
       "      <td>ABBOCILLIN VK</td>\n",
       "      <td>TAB</td>\n",
       "      <td>500MG</td>\n",
       "      <td>25.0</td>\n",
       "      <td>PENICILLIN V</td>\n",
       "      <td>3.1500</td>\n",
       "      <td>J01CE02</td>\n",
       "      <td>J01CE</td>\n",
       "      <td>J01C</td>\n",
       "      <td>J01</td>\n",
       "      <td>J</td>\n",
       "      <td>系统用抗感染药</td>\n",
       "      <td>系统用抗菌药</td>\n",
       "      <td>β-内酰胺抗菌药，青霉素类</td>\n",
       "      <td>β-内酰胺酶敏感的青霉素类</td>\n",
       "      <td>青霉素V</td>\n",
       "    </tr>\n",
       "    <tr>\n",
       "      <th>42</th>\n",
       "      <td>ACC4</td>\n",
       "      <td>ACCUPRIL TAB 5MG 30</td>\n",
       "      <td>ACCUPRIL</td>\n",
       "      <td>TAB</td>\n",
       "      <td>5MG</td>\n",
       "      <td>30.0</td>\n",
       "      <td>QUINAPRIL</td>\n",
       "      <td>6.8200</td>\n",
       "      <td>C09AA06</td>\n",
       "      <td>C09AA</td>\n",
       "      <td>C09A</td>\n",
       "      <td>C09</td>\n",
       "      <td>C</td>\n",
       "      <td>心血管系统</td>\n",
       "      <td>作用于肾素-血管紧张素系统的药物</td>\n",
       "      <td>血管紧张素转化酶抑制抑制药，单方</td>\n",
       "      <td>血管紧张素转化酶抑制抑制药，单方</td>\n",
       "      <td>喹那普利</td>\n",
       "    </tr>\n",
       "    <tr>\n",
       "      <th>43</th>\n",
       "      <td>ACC5</td>\n",
       "      <td>ACCUPRIL TAB 10MG 30</td>\n",
       "      <td>ACCUPRIL</td>\n",
       "      <td>TAB</td>\n",
       "      <td>10MG</td>\n",
       "      <td>30.0</td>\n",
       "      <td>QUINAPRIL</td>\n",
       "      <td>8.1700</td>\n",
       "      <td>C09AA06</td>\n",
       "      <td>C09AA</td>\n",
       "      <td>C09A</td>\n",
       "      <td>C09</td>\n",
       "      <td>C</td>\n",
       "      <td>心血管系统</td>\n",
       "      <td>作用于肾素-血管紧张素系统的药物</td>\n",
       "      <td>血管紧张素转化酶抑制抑制药，单方</td>\n",
       "      <td>血管紧张素转化酶抑制抑制药，单方</td>\n",
       "      <td>喹那普利</td>\n",
       "    </tr>\n",
       "    <tr>\n",
       "      <th>44</th>\n",
       "      <td>ACC6</td>\n",
       "      <td>ACCUPRIL TAB 20MG 30</td>\n",
       "      <td>ACCUPRIL</td>\n",
       "      <td>TAB</td>\n",
       "      <td>20MG</td>\n",
       "      <td>30.0</td>\n",
       "      <td>QUINAPRIL</td>\n",
       "      <td>9.2200</td>\n",
       "      <td>C09AA06</td>\n",
       "      <td>C09AA</td>\n",
       "      <td>C09A</td>\n",
       "      <td>C09</td>\n",
       "      <td>C</td>\n",
       "      <td>心血管系统</td>\n",
       "      <td>作用于肾素-血管紧张素系统的药物</td>\n",
       "      <td>血管紧张素转化酶抑制抑制药，单方</td>\n",
       "      <td>血管紧张素转化酶抑制抑制药，单方</td>\n",
       "      <td>喹那普利</td>\n",
       "    </tr>\n",
       "    <tr>\n",
       "      <th>48</th>\n",
       "      <td>ACCL1</td>\n",
       "      <td>ACCOMIN ADULT TONIC LIQ 200ML 1</td>\n",
       "      <td>ACCOMIN ADULT TONIC</td>\n",
       "      <td>LIQ</td>\n",
       "      <td>200ML</td>\n",
       "      <td>1.0</td>\n",
       "      <td>VITAMIN B GRP COMPLEX</td>\n",
       "      <td>6.0200</td>\n",
       "      <td>A11EA</td>\n",
       "      <td>A11EA</td>\n",
       "      <td>A11E</td>\n",
       "      <td>A11</td>\n",
       "      <td>A</td>\n",
       "      <td>消化道及代谢</td>\n",
       "      <td>维生素类</td>\n",
       "      <td>复合维生素B，含复方</td>\n",
       "      <td>复合维生素B，单方</td>\n",
       "      <td>复合维生素B，单方</td>\n",
       "    </tr>\n",
       "    <tr>\n",
       "      <th>52</th>\n",
       "      <td>ACCU10</td>\n",
       "      <td>ACCURETIC TAB 20MG/12.5MG 30</td>\n",
       "      <td>ACCURETIC</td>\n",
       "      <td>TAB</td>\n",
       "      <td>20MG/12.5MG</td>\n",
       "      <td>30.0</td>\n",
       "      <td>QUINAPRIL/HYDROCHLOROTHIAZIDE</td>\n",
       "      <td>7.3600</td>\n",
       "      <td>C09BA06</td>\n",
       "      <td>C09BA</td>\n",
       "      <td>C09B</td>\n",
       "      <td>C09</td>\n",
       "      <td>C</td>\n",
       "      <td>心血管系统</td>\n",
       "      <td>作用于肾素-血管紧张素系统的药物</td>\n",
       "      <td>血管紧张素转化酶抑制抑制药，复方</td>\n",
       "      <td>血管紧张素转化酶抑制抑制药和利尿药</td>\n",
       "      <td>喹那普利和利尿药</td>\n",
       "    </tr>\n",
       "    <tr>\n",
       "      <th>53</th>\n",
       "      <td>ACCU11</td>\n",
       "      <td>ACCU-CHEK GO STRPS 50 1</td>\n",
       "      <td>ACCU-CHEK GO</td>\n",
       "      <td>STRPS</td>\n",
       "      <td>50</td>\n",
       "      <td>1.0</td>\n",
       "      <td>GLUCOSE IND BLOOD ACCUCHEK GO</td>\n",
       "      <td>20.0700</td>\n",
       "      <td>V04CA02</td>\n",
       "      <td>V04CA</td>\n",
       "      <td>V04C</td>\n",
       "      <td>V04</td>\n",
       "      <td>V</td>\n",
       "      <td>杂类</td>\n",
       "      <td>诊断用药</td>\n",
       "      <td>其它诊断用药</td>\n",
       "      <td>糖尿病检测</td>\n",
       "      <td>葡萄糖</td>\n",
       "    </tr>\n",
       "    <tr>\n",
       "      <th>54</th>\n",
       "      <td>ACCU12</td>\n",
       "      <td>ACCU-CHEK INTEGRA STRPS 51 1</td>\n",
       "      <td>ACCU-CHEK INTEGRA</td>\n",
       "      <td>STRPS</td>\n",
       "      <td>51</td>\n",
       "      <td>1.0</td>\n",
       "      <td>GLUCOSE IND BLOOD ACCUCHEK INT</td>\n",
       "      <td>21.1200</td>\n",
       "      <td>V04CA02</td>\n",
       "      <td>V04CA</td>\n",
       "      <td>V04C</td>\n",
       "      <td>V04</td>\n",
       "      <td>V</td>\n",
       "      <td>杂类</td>\n",
       "      <td>诊断用药</td>\n",
       "      <td>其它诊断用药</td>\n",
       "      <td>糖尿病检测</td>\n",
       "      <td>葡萄糖</td>\n",
       "    </tr>\n",
       "  </tbody>\n",
       "</table>\n",
       "</div>"
      ],
      "text/plain": [
       "      PCode                        MasterProductFullName            BrandName  \\\n",
       "DID                                                                             \n",
       "7      A127                            AMOXIL SACH 3G 1                AMOXIL   \n",
       "13     ABB2                  ABBOCILLIN VK TAB 250MG 25         ABBOCILLIN VK   \n",
       "17     ABB9        ABBOCILLIN V SUSP 150MG/5ML, 100ML 1          ABBOCILLIN V   \n",
       "18    ABBZ1                    ASCABIOL APP 25% 200ML 1              ASCABIOL   \n",
       "19    ABIL1                         ABILIFY TAB 10MG 30               ABILIFY   \n",
       "20    ABIL2                         ABILIFY TAB 15MG 30               ABILIFY   \n",
       "21    ABIL3                         ABILIFY TAB 20MG 30               ABILIFY   \n",
       "22    ABIL4                         ABILIFY TAB 30MG 30               ABILIFY   \n",
       "23    ABIL5                          ABILIFY TAB 5MG 30               ABILIFY   \n",
       "24    ABRA1                  ABRAXANE VL 100MG (BASE) 1              ABRAXANE   \n",
       "25     ABS2  HANDY GAUZE ABS PAD  10CM X 10CM71117-06 1   HANDY GAUZE ABS PAD   \n",
       "26     ABS4   HANDY GAUZE ABS PAD  5CM X 5CM 71117-05 1   HANDY GAUZE ABS PAD   \n",
       "29    ABTX1                  ABBOCILLIN VK TAB 500MG 25         ABBOCILLIN VK   \n",
       "42     ACC4                         ACCUPRIL TAB 5MG 30              ACCUPRIL   \n",
       "43     ACC5                        ACCUPRIL TAB 10MG 30              ACCUPRIL   \n",
       "44     ACC6                        ACCUPRIL TAB 20MG 30              ACCUPRIL   \n",
       "48    ACCL1             ACCOMIN ADULT TONIC LIQ 200ML 1   ACCOMIN ADULT TONIC   \n",
       "52   ACCU10                ACCURETIC TAB 20MG/12.5MG 30             ACCURETIC   \n",
       "53   ACCU11                     ACCU-CHEK GO STRPS 50 1          ACCU-CHEK GO   \n",
       "54   ACCU12                ACCU-CHEK INTEGRA STRPS 51 1     ACCU-CHEK INTEGRA   \n",
       "\n",
       "      Form             Strength  Pack                      Ingredient  \\\n",
       "DID                                                                     \n",
       "7     SACH                   3G   1.0                     AMOXYCILLIN   \n",
       "13     TAB                250MG  25.0                    PENICILLIN V   \n",
       "17    SUSP     150MG/5ML, 100ML   1.0      PENICILLIN (AS BENZATHINE)   \n",
       "18     APP            25% 200ML   1.0                  Not Applicable   \n",
       "19     TAB                 10MG  30.0                    ARIPIPRAZOLE   \n",
       "20     TAB                 15MG  30.0                    ARIPIPRAZOLE   \n",
       "21     TAB                 20MG  30.0                    ARIPIPRAZOLE   \n",
       "22     TAB                 30MG  30.0                    ARIPIPRAZOLE   \n",
       "23     TAB                  5MG  30.0                    ARIPIPRAZOLE   \n",
       "24      VL         100MG (BASE)   1.0                  NAB PACLITAXEL   \n",
       "25     NaN  10CM X 10CM71117-06   1.0             GAUZE ABSORBENT PAD   \n",
       "26     NaN   5CM X 5CM 71117-05   1.0             GAUZE ABSORBENT PAD   \n",
       "29     TAB                500MG  25.0                    PENICILLIN V   \n",
       "42     TAB                  5MG  30.0                       QUINAPRIL   \n",
       "43     TAB                 10MG  30.0                       QUINAPRIL   \n",
       "44     TAB                 20MG  30.0                       QUINAPRIL   \n",
       "48     LIQ                200ML   1.0           VITAMIN B GRP COMPLEX   \n",
       "52     TAB          20MG/12.5MG  30.0   QUINAPRIL/HYDROCHLOROTHIAZIDE   \n",
       "53   STRPS                   50   1.0   GLUCOSE IND BLOOD ACCUCHEK GO   \n",
       "54   STRPS                   51   1.0  GLUCOSE IND BLOOD ACCUCHEK INT   \n",
       "\n",
       "        Price      L5C    L4C   L3C  L2C  L1C         L1_CN             L2_CN  \\\n",
       "DID                                                                             \n",
       "7      2.2174  J01CA04  J01CA  J01C  J01    J       系统用抗感染药            系统用抗菌药   \n",
       "13     2.1200  J01CE02  J01CE  J01C  J01    J       系统用抗感染药            系统用抗菌药   \n",
       "17     7.4200  J01CE10  J01CE  J01C  J01    J       系统用抗感染药            系统用抗菌药   \n",
       "18     7.8800      NaN    NaN   NaN  NaN  NaN           NaN               NaN   \n",
       "19   105.7900  N05AX12  N05AX  N05A  N05    N          神经系统               安定药   \n",
       "20   150.1300  N05AX12  N05AX  N05A  N05    N          神经系统               安定药   \n",
       "21   182.7500  N05AX12  N05AX  N05A  N05    N          神经系统               安定药   \n",
       "22   222.6900  N05AX12  N05AX  N05A  N05    N          神经系统               安定药   \n",
       "23   155.3700  N05AX12  N05AX  N05A  N05    N          神经系统               安定药   \n",
       "24   431.6700  L01CD01  L01CD  L01C  L01    L  抗肿瘤药和免疫机能调节药              抗肿瘤药   \n",
       "25    21.3300    D09AA  D09AA  D09A  D09    D         皮肤病用药              医用敷料   \n",
       "26     7.6000    D09AA  D09AA  D09A  D09    D         皮肤病用药              医用敷料   \n",
       "29     3.1500  J01CE02  J01CE  J01C  J01    J       系统用抗感染药            系统用抗菌药   \n",
       "42     6.8200  C09AA06  C09AA  C09A  C09    C         心血管系统  作用于肾素-血管紧张素系统的药物   \n",
       "43     8.1700  C09AA06  C09AA  C09A  C09    C         心血管系统  作用于肾素-血管紧张素系统的药物   \n",
       "44     9.2200  C09AA06  C09AA  C09A  C09    C         心血管系统  作用于肾素-血管紧张素系统的药物   \n",
       "48     6.0200    A11EA  A11EA  A11E  A11    A        消化道及代谢              维生素类   \n",
       "52     7.3600  C09BA06  C09BA  C09B  C09    C         心血管系统  作用于肾素-血管紧张素系统的药物   \n",
       "53    20.0700  V04CA02  V04CA  V04C  V04    V            杂类              诊断用药   \n",
       "54    21.1200  V04CA02  V04CA  V04C  V04    V            杂类              诊断用药   \n",
       "\n",
       "                L3_CN              L4_CN        L5_CN  \n",
       "DID                                                    \n",
       "7       β-内酰胺抗菌药，青霉素类             广谱青霉素类         阿莫西林  \n",
       "13      β-内酰胺抗菌药，青霉素类      β-内酰胺酶敏感的青霉素类         青霉素V  \n",
       "17      β-内酰胺抗菌药，青霉素类      β-内酰胺酶敏感的青霉素类       苄星青霉素V  \n",
       "18                NaN                NaN          NaN  \n",
       "19              抗精神病药            其它抗精神病药         阿立哌唑  \n",
       "20              抗精神病药            其它抗精神病药         阿立哌唑  \n",
       "21              抗精神病药            其它抗精神病药         阿立哌唑  \n",
       "22              抗精神病药            其它抗精神病药         阿立哌唑  \n",
       "23              抗精神病药            其它抗精神病药         阿立哌唑  \n",
       "24       植物生物碱和其它天然药物             紫杉生物碱类          紫杉醇  \n",
       "25               医用敷料        敷料软膏中用的抗感染药  敷料软膏中用的抗感染药  \n",
       "26               医用敷料        敷料软膏中用的抗感染药  敷料软膏中用的抗感染药  \n",
       "29      β-内酰胺抗菌药，青霉素类      β-内酰胺酶敏感的青霉素类         青霉素V  \n",
       "42   血管紧张素转化酶抑制抑制药，单方   血管紧张素转化酶抑制抑制药，单方         喹那普利  \n",
       "43   血管紧张素转化酶抑制抑制药，单方   血管紧张素转化酶抑制抑制药，单方         喹那普利  \n",
       "44   血管紧张素转化酶抑制抑制药，单方   血管紧张素转化酶抑制抑制药，单方         喹那普利  \n",
       "48         复合维生素B，含复方          复合维生素B，单方    复合维生素B，单方  \n",
       "52   血管紧张素转化酶抑制抑制药，复方  血管紧张素转化酶抑制抑制药和利尿药     喹那普利和利尿药  \n",
       "53             其它诊断用药              糖尿病检测          葡萄糖  \n",
       "54             其它诊断用药              糖尿病检测          葡萄糖  "
      ]
     },
     "execution_count": 11,
     "metadata": {},
     "output_type": "execute_result"
    }
   ],
   "source": [
    "def read_drug_lookup():\n",
    "    df = pd.read_csv('./Lookups/Drug_LookUp_CN.csv', encoding='utf-16', sep='\\t', index_col='MasterProductID', \n",
    "                     usecols=['MasterProductID', 'MasterProductCode', 'MasterProductFullName',\n",
    "                              'BrandName', 'FormCode', 'StrengthCode', 'PackSizeNumber',\n",
    "                              'GenericIngredientName', 'ChemistListPrice',\n",
    "                              'ATCLevel5Code', 'ATCLevel4Code', 'ATCLevel3Code', 'ATCLevel2Code',\n",
    "                              'ATCLevel1Code', 'L1_CN', 'L2_CN', 'L3_CN', 'L4_CN', 'L5_CN'])\n",
    "    return df\n",
    "\n",
    "drug_lookup = read_drug_lookup()\n",
    "drug_lookup.index.rename('DID', inplace=True)\n",
    "drug_lookup.rename(columns={'MasterProductCode':'PCode', 'FormCode':'Form', 'StrengthCode':'Strength',\n",
    "                            'PackSizeNumber':'Pack', 'GenericIngredientName':'Ingredient',\n",
    "                            'ChemistListPrice':'Price', 'ATCLevel5Code':'L5C', 'ATCLevel4Code':'L4C',\n",
    "                            'ATCLevel3Code':'L3C', 'ATCLevel2Code':'L2C', 'ATCLevel1Code':'L1C'}, inplace=True)\n",
    "drug_lookup.head(20)"
   ]
  },
  {
   "cell_type": "code",
   "execution_count": 19,
   "metadata": {
    "scrolled": false
   },
   "outputs": [
    {
     "name": "stdout",
     "output_type": "stream",
     "text": [
      "4303\tTAB\n",
      "715\tCAP\n",
      "185\tAMP\n",
      "179\tVL\n",
      "161\tEC-TABS\n",
      "126\tCRM\n",
      "123\tSR-TAB\n",
      "116\tEYE-DRP\n",
      "110\tCR-TAB\n",
      "110\tINJ\n",
      "92\tOR-DISTAB\n",
      "91\tPTCH\n",
      "81\tPFS\n",
      "72\tER-TAB\n",
      "63\tSR-CAP\n",
      "59\tOINT\n",
      "54\tSACH\n",
      "52\tSYRP\n",
      "49\tSTRPS\n",
      "45\tGEL\n",
      "39\tCHEW-TAB\n",
      "38\tMR-TAB\n",
      "38\tO-LIQ\n",
      "38\tPOWD\n",
      "35\tCR-CAP\n",
      "30\tVACC\n",
      "29\tSUPP\n",
      "28\tSUSP\n",
      "27\tCAPLET\n",
      "24\tLOT\n",
      "24\tSOLN\n",
      "20\tCD-CAP\n",
      "20\tNAS-SPR\n",
      "20\tWAF\n",
      "19\tDISP-TAB\n",
      "19\tDRES\n",
      "19\tMET-AERO\n",
      "18\tPFP\n",
      "18\tST-NEBS\n",
      "17\tEAR-DRP\n",
      "17\tIV\n",
      "17\tMIXT\n",
      "17\tO-SOLN\n",
      "17\tPACK\n",
      "16\tEYE-OINT\n",
      "15\tLINCT\n",
      "15\tLOZ\n",
      "14\tSL-TAB\n",
      "13\tEYE-GEL\n",
      "13\tSYRNG\n",
      "12\tNAS-SPRY\n",
      "12\tO-PACK\n",
      "11\tENEMA\n",
      "11\tSYRUP\n",
      "11\tUDV\n",
      "11\tVAG-CRM\n",
      "10\tINF\n",
      "10\tPWDR\n",
      "9\tGRAN\n",
      "9\tIMP\n",
      "9\tIV-SOLN\n",
      "9\tLIQ\n",
      "9\tPESS\n",
      "9\tSPOO\n",
      "8\tELIX\n",
      "8\tINHL\n",
      "7\tA-HALER\n",
      "7\tPSTE\n",
      "7\tSUSP-SACH\n",
      "6\tINH-CAP\n",
      "6\tMIN\n",
      "6\tRHALER\n",
      "6\tTURBHAL\n",
      "5\tD-TAB\n",
      "5\tO-PK\n",
      "4\tBATH-OIL\n",
      "4\tINH\n",
      "4\tIRR\n",
      "4\tM-WASH\n",
      "4\tMET-INHR\n",
      "4\tPAINT\n",
      "4\tSL-WAF\n",
      "4\tT-HALER\n",
      "4\tTAB-EFF\n",
      "3\tAUTOH\n",
      "3\tEAR-OINT\n",
      "3\tJEL\n",
      "3\tNAS-DRP\n",
      "3\tNAS-SPY\n",
      "3\tOR-GEL\n",
      "2\tAPP\n",
      "2\tCHEW-TABS\n",
      "2\tO-DRPS\n",
      "2\tOR-SUSP\n",
      "2\tR-CAPS\n",
      "2\tRECT-FOAM\n",
      "2\tRESP\n",
      "2\tSL-FILM\n",
      "2\tSOAP\n",
      "2\tSOL-TAB\n",
      "2\tVAG-GEL\n",
      "1\tA-CAPS\n",
      "1\tAER-SPR\n",
      "1\tAUTO-INJ\n",
      "1\tBAR\n",
      "1\tDISKS\n",
      "1\tEFF-TAB\n",
      "1\tELIX-C\n",
      "1\tEXPECT\n",
      "1\tEYE-SPR\n",
      "1\tIUD\n",
      "1\tKIT\n",
      "1\tLINM\n",
      "1\tMSPR\n",
      "1\tNAS-OINT\n",
      "1\tNAS-SOLN\n",
      "1\tNEB-SOLN\n",
      "1\tO-DRP\n",
      "1\tO-SEMISOL\n",
      "1\tOIL\n",
      "1\tORAL-LIQ\n",
      "1\tP-AMP\n",
      "1\tSL-SPRY\n",
      "1\tSP-CAPS\n",
      "1\tT-SOLN\n",
      "1\tTINC\n",
      "1\tVAG-CR\n"
     ]
    }
   ],
   "source": [
    "for k, v in sorted(zip(*np.unique(drug_lookup.Form.values[~drug_lookup.Form.isnull()],\n",
    "                                  return_counts=True)), key=lambda x:x[1], reverse=True):\n",
    "    print('%d\\t%s'%(v, k))"
   ]
  },
  {
   "cell_type": "code",
   "execution_count": 64,
   "metadata": {},
   "outputs": [
    {
     "data": {
      "text/plain": [
       "Index(['Patient_ID', 'Store_ID', 'Prescriber_ID', 'Drug_ID',\n",
       "       'SourceSystem_Code', 'Prescription_Week', 'Dispense_Week', 'Drug_Code',\n",
       "       'NHS_Code', 'IsDeferredScript', 'Script_Qty', 'Dispensed_Qty',\n",
       "       'MaxDispense_Qty', 'PatientPrice_Amt', 'WholeSalePrice_Amt',\n",
       "       'GovernmentReclaim_Amt', 'RepeatsTotal_Qty', 'RepeatsLeft_Qty',\n",
       "       'StreamlinedApproval_Code', 'PCode', 'MasterProductFullName',\n",
       "       'BrandName', 'Form', 'Strength', 'Pack', 'Ingredient', 'Price', 'L5C',\n",
       "       'L4C', 'L3C', 'L2C', 'L1C', 'L1_CN', 'L2_CN', 'L3_CN', 'L4_CN',\n",
       "       'L5_CN'],\n",
       "      dtype='object')"
      ]
     },
     "execution_count": 64,
     "metadata": {},
     "output_type": "execute_result"
    }
   ],
   "source": [
    "df1_with_drug.columns"
   ]
  },
  {
   "cell_type": "code",
   "execution_count": 65,
   "metadata": {
    "scrolled": false
   },
   "outputs": [
    {
     "name": "stdout",
     "output_type": "stream",
     "text": [
      "DIABEX 2448\n"
     ]
    },
    {
     "data": {
      "image/png": "[encoded data removed]",
      "text/plain": [
       "<matplotlib.figure.Figure at 0x2630eca48d0>"
      ]
     },
     "metadata": {},
     "output_type": "display_data"
    },
    {
     "name": "stdout",
     "output_type": "stream",
     "text": [
      "DIABEX XR 9357\n"
     ]
    },
    {
     "data": {
      "image/png": "[encoded data removed]",
      "text/plain": [
       "<matplotlib.figure.Figure at 0x2630ebcaf98>"
      ]
     },
     "metadata": {},
     "output_type": "display_data"
    },
    {
     "name": "stdout",
     "output_type": "stream",
     "text": [
      "DIAFORMIN 6973\n"
     ]
    },
    {
     "data": {
      "image/png": "[encoded data removed]",
      "text/plain": [
       "<matplotlib.figure.Figure at 0x2630eee75f8>"
      ]
     },
     "metadata": {},
     "output_type": "display_data"
    },
    {
     "name": "stdout",
     "output_type": "stream",
     "text": [
      "DIAFORMIN XR 2936\n"
     ]
    },
    {
     "data": {
      "image/png": "[encoded data removed]",
      "text/plain": [
       "<matplotlib.figure.Figure at 0x2630ef4a160>"
      ]
     },
     "metadata": {},
     "output_type": "display_data"
    },
    {
     "name": "stdout",
     "output_type": "stream",
     "text": [
      "FORMET 3092\n"
     ]
    },
    {
     "data": {
      "image/png": "[encoded data removed]",
      "text/plain": [
       "<matplotlib.figure.Figure at 0x2630efb6860>"
      ]
     },
     "metadata": {},
     "output_type": "display_data"
    },
    {
     "name": "stdout",
     "output_type": "stream",
     "text": [
      "FORMET ASPEN 1093\n"
     ]
    },
    {
     "data": {
      "image/png": "[encoded data removed]",
      "text/plain": [
       "<matplotlib.figure.Figure at 0x2630ef6d898>"
      ]
     },
     "metadata": {},
     "output_type": "display_data"
    },
    {
     "name": "stdout",
     "output_type": "stream",
     "text": [
      "GLUCOBETE 67\n"
     ]
    },
    {
     "data": {
      "image/png": "[encoded data removed]",
      "text/plain": [
       "<matplotlib.figure.Figure at 0x2630eed4f60>"
      ]
     },
     "metadata": {},
     "output_type": "display_data"
    },
    {
     "name": "stdout",
     "output_type": "stream",
     "text": [
      "GLUCOHEXAL 18\n"
     ]
    },
    {
     "data": {
      "image/png": "[encoded data removed]",
      "text/plain": [
       "<matplotlib.figure.Figure at 0x2630e409198>"
      ]
     },
     "metadata": {},
     "output_type": "display_data"
    },
    {
     "name": "stdout",
     "output_type": "stream",
     "text": [
      "GLUCOPHAGE 33\n"
     ]
    },
    {
     "data": {
      "image/png": "[encoded data removed]",
      "text/plain": [
       "<matplotlib.figure.Figure at 0x2630e9ece10>"
      ]
     },
     "metadata": {},
     "output_type": "display_data"
    },
    {
     "name": "stdout",
     "output_type": "stream",
     "text": [
      "JANUMET XR 773\n"
     ]
    },
    {
     "data": {
      "image/png": "[encoded data removed]",
      "text/plain": [
       "<matplotlib.figure.Figure at 0x2630e9ae5f8>"
      ]
     },
     "metadata": {},
     "output_type": "display_data"
    },
    {
     "name": "stdout",
     "output_type": "stream",
     "text": [
      "KOMBIGLYZE XR 315\n"
     ]
    },
    {
     "data": {
      "image/png": "[encoded data removed]",
      "text/plain": [
       "<matplotlib.figure.Figure at 0x2630ea87908>"
      ]
     },
     "metadata": {},
     "output_type": "display_data"
    },
    {
     "name": "stdout",
     "output_type": "stream",
     "text": [
      "METEX XR 2837\n"
     ]
    },
    {
     "data": {
      "image/png": "[encoded data removed]",
      "text/plain": [
       "<matplotlib.figure.Figure at 0x2630ea6d898>"
      ]
     },
     "metadata": {},
     "output_type": "display_data"
    },
    {
     "name": "stdout",
     "output_type": "stream",
     "text": [
      "METFORMIN (AN) 266\n"
     ]
    },
    {
     "data": {
      "image/png": "[encoded data removed]",
      "text/plain": [
       "<matplotlib.figure.Figure at 0x2630e5c49e8>"
      ]
     },
     "metadata": {},
     "output_type": "display_data"
    },
    {
     "name": "stdout",
     "output_type": "stream",
     "text": [
      "METFORMIN (APO) 2495\n"
     ]
    },
    {
     "data": {
      "image/png": "[encoded data removed]",
      "text/plain": [
       "<matplotlib.figure.Figure at 0x2630ecd84e0>"
      ]
     },
     "metadata": {},
     "output_type": "display_data"
    },
    {
     "name": "stdout",
     "output_type": "stream",
     "text": [
      "METFORMIN (ASCENT PHARMA) 16\n"
     ]
    },
    {
     "data": {
      "image/png": "[encoded data removed]",
      "text/plain": [
       "<matplotlib.figure.Figure at 0x2630eee80b8>"
      ]
     },
     "metadata": {},
     "output_type": "display_data"
    },
    {
     "name": "stdout",
     "output_type": "stream",
     "text": [
      "METFORMIN (CHEM-MART) 227\n"
     ]
    },
    {
     "data": {
      "image/png": "[encoded data removed]",
      "text/plain": [
       "<matplotlib.figure.Figure at 0x2630eebf2b0>"
      ]
     },
     "metadata": {},
     "output_type": "display_data"
    },
    {
     "name": "stdout",
     "output_type": "stream",
     "text": [
      "METFORMIN (CR) 24\n"
     ]
    },
    {
     "data": {
      "image/png": "[encoded data removed]",
      "text/plain": [
       "<matplotlib.figure.Figure at 0x2630ea342b0>"
      ]
     },
     "metadata": {},
     "output_type": "display_data"
    },
    {
     "name": "stdout",
     "output_type": "stream",
     "text": [
      "METFORMIN (GA) 1214\n"
     ]
    },
    {
     "data": {
      "image/png": "[encoded data removed]",
      "text/plain": [
       "<matplotlib.figure.Figure at 0x2630e9a3908>"
      ]
     },
     "metadata": {},
     "output_type": "display_data"
    },
    {
     "name": "stdout",
     "output_type": "stream",
     "text": [
      "METFORMIN (GEN HLTH) 135\n"
     ]
    },
    {
     "data": {
      "image/png": "[encoded data removed]",
      "text/plain": [
       "<matplotlib.figure.Figure at 0x2630ea150b8>"
      ]
     },
     "metadata": {},
     "output_type": "display_data"
    },
    {
     "name": "stdout",
     "output_type": "stream",
     "text": [
      "METFORMIN (RANBAXY) 193\n"
     ]
    },
    {
     "data": {
      "image/png": "[encoded data removed]",
      "text/plain": [
       "<matplotlib.figure.Figure at 0x2630ed1be10>"
      ]
     },
     "metadata": {},
     "output_type": "display_data"
    },
    {
     "name": "stdout",
     "output_type": "stream",
     "text": [
      "METFORMIN (SANDOZ) 1831\n"
     ]
    },
    {
     "data": {
      "image/png": "[encoded data removed]",
      "text/plain": [
       "<matplotlib.figure.Figure at 0x2630cdd3e80>"
      ]
     },
     "metadata": {},
     "output_type": "display_data"
    },
    {
     "name": "stdout",
     "output_type": "stream",
     "text": [
      "METFORMIN (TW) 131\n"
     ]
    },
    {
     "data": {
      "image/png": "[encoded data removed]",
      "text/plain": [
       "<matplotlib.figure.Figure at 0x2630e96c2b0>"
      ]
     },
     "metadata": {},
     "output_type": "display_data"
    },
    {
     "name": "stdout",
     "output_type": "stream",
     "text": [
      "METFORMIN GENRX 402\n"
     ]
    },
    {
     "data": {
      "image/png": "[encoded data removed]",
      "text/plain": [
       "<matplotlib.figure.Figure at 0x2630eb007f0>"
      ]
     },
     "metadata": {},
     "output_type": "display_data"
    },
    {
     "name": "stdout",
     "output_type": "stream",
     "text": [
      "XIGDUO XR 113\n"
     ]
    },
    {
     "data": {
      "image/png": "[encoded data removed]",
      "text/plain": [
       "<matplotlib.figure.Figure at 0x2630eb84748>"
      ]
     },
     "metadata": {},
     "output_type": "display_data"
    }
   ],
   "source": [
    "for form, df in df1_with_drug[df1_with_drug.L2C=='A10'].groupby('BrandName', sort=True):\n",
    "    x, y = np.unique(df.Pack.values, return_counts=True)\n",
    "    if len(x) == 1:\n",
    "        continue\n",
    "    print(form, len(df))\n",
    "    select_mask = y > 0\n",
    "    x_pos = np.arange(len(x[select_mask]))\n",
    "    plt.bar(x_pos, y[select_mask])\n",
    "    plt.xticks(x_pos, x[select_mask].astype(int))\n",
    "    plt.show()"
   ]
  },
  {
   "cell_type": "code",
   "execution_count": 62,
   "metadata": {},
   "outputs": [
    {
     "name": "stdout",
     "output_type": "stream",
     "text": [
      "CR-TAB 315\n"
     ]
    },
    {
     "data": {
      "image/png": "[encoded data removed]",
      "text/plain": [
       "<matplotlib.figure.Figure at 0x2630ea3dcc0>"
      ]
     },
     "metadata": {},
     "output_type": "display_data"
    },
    {
     "name": "stdout",
     "output_type": "stream",
     "text": [
      "ER-TAB 17188\n"
     ]
    },
    {
     "data": {
      "image/png": "[encoded data removed]",
      "text/plain": [
       "<matplotlib.figure.Figure at 0x2630ea6dc50>"
      ]
     },
     "metadata": {},
     "output_type": "display_data"
    },
    {
     "name": "stdout",
     "output_type": "stream",
     "text": [
      "INJ 465\n"
     ]
    },
    {
     "data": {
      "image/png": "[encoded data removed]",
      "text/plain": [
       "<matplotlib.figure.Figure at 0x2630ed86668>"
      ]
     },
     "metadata": {},
     "output_type": "display_data"
    },
    {
     "name": "stdout",
     "output_type": "stream",
     "text": [
      "MR-TAB 14534\n"
     ]
    },
    {
     "data": {
      "image/png": "[encoded data removed]",
      "text/plain": [
       "<matplotlib.figure.Figure at 0x2630cdc5390>"
      ]
     },
     "metadata": {},
     "output_type": "display_data"
    },
    {
     "name": "stdout",
     "output_type": "stream",
     "text": [
      "TAB 44717\n"
     ]
    },
    {
     "data": {
      "image/png": "[encoded data removed]",
      "text/plain": [
       "<matplotlib.figure.Figure at 0x2630e9782e8>"
      ]
     },
     "metadata": {},
     "output_type": "display_data"
    }
   ],
   "source": [
    "for form, df in df1_with_drug[df1_with_drug.L2C=='A10'].groupby('Form', sort=True):\n",
    "    x, y = np.unique(df.Pack.values, return_counts=True)\n",
    "    if len(x) == 1:\n",
    "        continue\n",
    "    print(form, len(df))\n",
    "    select_mask = y > 0\n",
    "    x_pos = np.arange(len(x[select_mask]))\n",
    "    plt.bar(x_pos, y[select_mask])\n",
    "    plt.xticks(x_pos, x[select_mask].astype(int))\n",
    "    plt.show()"
   ]
  },
  {
   "cell_type": "code",
   "execution_count": 50,
   "metadata": {
    "collapsed": true
   },
   "outputs": [],
   "source": []
  },
  {
   "cell_type": "code",
   "execution_count": 59,
   "metadata": {
    "scrolled": false
   },
   "outputs": [
    {
     "name": "stdout",
     "output_type": "stream",
     "text": [
      "CAP\n"
     ]
    },
    {
     "data": {
      "image/png": "[encoded data removed]",
      "text/plain": [
       "<matplotlib.figure.Figure at 0x2630ecaf278>"
      ]
     },
     "metadata": {},
     "output_type": "display_data"
    },
    {
     "name": "stdout",
     "output_type": "stream",
     "text": [
      "CR-CAP\n"
     ]
    },
    {
     "data": {
      "image/png": "[encoded data removed]",
      "text/plain": [
       "<matplotlib.figure.Figure at 0x2630edaf390>"
      ]
     },
     "metadata": {},
     "output_type": "display_data"
    },
    {
     "name": "stdout",
     "output_type": "stream",
     "text": [
      "CR-TAB\n"
     ]
    },
    {
     "data": {
      "image/png": "[encoded data removed]",
      "text/plain": [
       "<matplotlib.figure.Figure at 0x2630e91fe48>"
      ]
     },
     "metadata": {},
     "output_type": "display_data"
    },
    {
     "name": "stdout",
     "output_type": "stream",
     "text": [
      "CRM\n"
     ]
    },
    {
     "data": {
      "image/png": "[encoded data removed]",
      "text/plain": [
       "<matplotlib.figure.Figure at 0x2630ec089e8>"
      ]
     },
     "metadata": {},
     "output_type": "display_data"
    },
    {
     "name": "stdout",
     "output_type": "stream",
     "text": [
      "DISP-TAB\n"
     ]
    },
    {
     "data": {
      "image/png": "[encoded data removed]",
      "text/plain": [
       "<matplotlib.figure.Figure at 0x2630eca05f8>"
      ]
     },
     "metadata": {},
     "output_type": "display_data"
    },
    {
     "name": "stdout",
     "output_type": "stream",
     "text": [
      "EC-TABS\n"
     ]
    },
    {
     "data": {
      "image/png": "[encoded data removed]",
      "text/plain": [
       "<matplotlib.figure.Figure at 0x2630ecd8ef0>"
      ]
     },
     "metadata": {},
     "output_type": "display_data"
    },
    {
     "name": "stdout",
     "output_type": "stream",
     "text": [
      "ER-TAB\n"
     ]
    },
    {
     "data": {
      "image/png": "[encoded data removed]",
      "text/plain": [
       "<matplotlib.figure.Figure at 0x2630ebb4860>"
      ]
     },
     "metadata": {},
     "output_type": "display_data"
    },
    {
     "name": "stdout",
     "output_type": "stream",
     "text": [
      "INJ\n"
     ]
    },
    {
     "data": {
      "image/png": "[encoded data removed]",
      "text/plain": [
       "<matplotlib.figure.Figure at 0x2630eb10ef0>"
      ]
     },
     "metadata": {},
     "output_type": "display_data"
    },
    {
     "name": "stdout",
     "output_type": "stream",
     "text": [
      "MR-TAB\n"
     ]
    },
    {
     "data": {
      "image/png": "[encoded data removed]",
      "text/plain": [
       "<matplotlib.figure.Figure at 0x2630ea86ef0>"
      ]
     },
     "metadata": {},
     "output_type": "display_data"
    },
    {
     "name": "stdout",
     "output_type": "stream",
     "text": [
      "OINT\n"
     ]
    },
    {
     "data": {
      "image/png": "[encoded data removed]",
      "text/plain": [
       "<matplotlib.figure.Figure at 0x2630e45fba8>"
      ]
     },
     "metadata": {},
     "output_type": "display_data"
    },
    {
     "name": "stdout",
     "output_type": "stream",
     "text": [
      "OR-DISTAB\n"
     ]
    },
    {
     "data": {
      "image/png": "[encoded data removed]",
      "text/plain": [
       "<matplotlib.figure.Figure at 0x2630e400160>"
      ]
     },
     "metadata": {},
     "output_type": "display_data"
    },
    {
     "name": "stdout",
     "output_type": "stream",
     "text": [
      "PTCH\n"
     ]
    },
    {
     "data": {
      "image/png": "[encoded data removed]",
      "text/plain": [
       "<matplotlib.figure.Figure at 0x2630e45fe80>"
      ]
     },
     "metadata": {},
     "output_type": "display_data"
    },
    {
     "name": "stdout",
     "output_type": "stream",
     "text": [
      "SACH\n"
     ]
    },
    {
     "data": {
      "image/png": "[encoded data removed]",
      "text/plain": [
       "<matplotlib.figure.Figure at 0x2630e5c44a8>"
      ]
     },
     "metadata": {},
     "output_type": "display_data"
    },
    {
     "name": "stdout",
     "output_type": "stream",
     "text": [
      "SR-CAP\n"
     ]
    },
    {
     "data": {
      "image/png": "[encoded data removed]",
      "text/plain": [
       "<matplotlib.figure.Figure at 0x2630edffdd8>"
      ]
     },
     "metadata": {},
     "output_type": "display_data"
    },
    {
     "name": "stdout",
     "output_type": "stream",
     "text": [
      "SR-TAB\n"
     ]
    },
    {
     "data": {
      "image/png": "[encoded data removed]",
      "text/plain": [
       "<matplotlib.figure.Figure at 0x2630eac7f60>"
      ]
     },
     "metadata": {},
     "output_type": "display_data"
    },
    {
     "name": "stdout",
     "output_type": "stream",
     "text": [
      "TAB\n"
     ]
    },
    {
     "data": {
      "image/png": "[encoded data removed]",
      "text/plain": [
       "<matplotlib.figure.Figure at 0x2630ea5f668>"
      ]
     },
     "metadata": {},
     "output_type": "display_data"
    },
    {
     "name": "stdout",
     "output_type": "stream",
     "text": [
      "VL\n"
     ]
    },
    {
     "data": {
      "image/png": "[encoded data removed]",
      "text/plain": [
       "<matplotlib.figure.Figure at 0x2630ed085c0>"
      ]
     },
     "metadata": {},
     "output_type": "display_data"
    },
    {
     "name": "stdout",
     "output_type": "stream",
     "text": [
      "WAF\n"
     ]
    },
    {
     "data": {
      "image/png": "[encoded data removed]",
      "text/plain": [
       "<matplotlib.figure.Figure at 0x2637e3cd240>"
      ]
     },
     "metadata": {},
     "output_type": "display_data"
    }
   ],
   "source": [
    "for form, df in df1_with_drug.groupby('Form', sort=True):\n",
    "    x, y = np.unique(df.Pack.values, return_counts=True)\n",
    "    if len(x) == 1:\n",
    "        continue\n",
    "    if len(df) < 1000:\n",
    "        continue\n",
    "    print(form)\n",
    "    select_mask = y > 0\n",
    "    x_pos = np.arange(len(x[select_mask]))\n",
    "    plt.bar(x_pos, y[select_mask])\n",
    "    plt.xticks(x_pos, x[select_mask].astype(int))\n",
    "    plt.show()"
   ]
  }
 ],
 "metadata": {
  "kernelspec": {
   "display_name": "Python 3",
   "language": "python",
   "name": "python3"
  },
  "language_info": {
   "codemirror_mode": {
    "name": "ipython",
    "version": 3
   },
   "file_extension": ".py",
   "mimetype": "text/x-python",
   "name": "python",
   "nbconvert_exporter": "python",
   "pygments_lexer": "ipython3",
   "version": "3.5.3"
  }
 },
 "nbformat": 4,
 "nbformat_minor": 2
}
